{
 "cells": [
  {
   "cell_type": "markdown",
   "id": "bf25a1ce",
   "metadata": {},
   "source": [
    "# The Rise of Carlos Alcaraz\n",
    "\n",
    "### By: Yuki Kuwahara"
   ]
  },
  {
   "cell_type": "markdown",
   "id": "3bae77cb",
   "metadata": {},
   "source": [
    "When we talk about the ATP Tour today, Carlos Alcaraz is a name that never fails to be brought up. At only 19 years old, he has reached the Number 1 Ranking in the Singles Professional Rankings, which was attained when he triumped at the 2022 US Open - one of the four grand slam tournaments held annually. Additionally, he is the youngest player in the ATP Tour History to be named the Year-End Number 1 Ranking, surprassing Lleyton Hewitt. \n",
    "\n",
    "But the question arises: How was he able to have an extraordinary season in 2022? In addition to his Number 1 Ranking achievement and winning a Grand Slam, he has won 4 additional titles, including 2 Masters 1000 Tournaments in Miami, Florida and Madrid, Spain. He only broke into the Top 100 in May 2021, and only a little over year later, a success which many people and even current professional players believe and hope to achieve later on in their careers.\n",
    "\n",
    "To figure this out, we will be using data from the 2021 and 2022 ATP matches. Although Carlos Alcaraz has played a few ATP Tour Matches prior to 2021, most of his matches then comes from ATP Challenger Tournaments (known as \"Satellite\" Tournaments). We will not be utilizing those data as there are not many matches played in those years in order to make a meaningful comparison and analysis.\n",
    "\n",
    "The source of the data is: https://github.com/JeffSackmann/tennis_atp/tree/master\n",
    "\n",
    "In this analysis, we will be comparing ATP Tour match statistics of Carlos Alcaraz in 2021 and 2022 to figure if there are any significant patterns that can lead to a conclusion of his extraordinary 2022 season on the ATP Tour."
   ]
  },
  {
   "cell_type": "code",
   "execution_count": 136,
   "id": "9058a5e0",
   "metadata": {},
   "outputs": [],
   "source": [
    "#importing necessary packages\n",
    "\n",
    "import numpy as np\n",
    "import pandas as pd\n",
    "import matplotlib.pyplot as plt\n",
    "import seaborn as sns\n",
    "\n",
    "plt.style.use('fivethirtyeight')"
   ]
  },
  {
   "cell_type": "markdown",
   "id": "eba7d759",
   "metadata": {},
   "source": [
    "## Part 1: Data Cleaning"
   ]
  },
  {
   "cell_type": "markdown",
   "id": "31add883",
   "metadata": {},
   "source": [
    "Let's take a look at the dataframe of the ATP Matches. "
   ]
  },
  {
   "cell_type": "code",
   "execution_count": 137,
   "id": "4567c011",
   "metadata": {},
   "outputs": [],
   "source": [
    "matches_2021 = pd.read_csv(\"~/Desktop/Datasets/atp_matches_2021.csv\")\n",
    "matches_2022 = pd.read_csv(\"~/Desktop/Datasets/atp_matches_2022.csv\")"
   ]
  },
  {
   "cell_type": "code",
   "execution_count": 138,
   "id": "14e4b7fc",
   "metadata": {},
   "outputs": [
    {
     "data": {
      "text/html": [
       "<div>\n",
       "<style scoped>\n",
       "    .dataframe tbody tr th:only-of-type {\n",
       "        vertical-align: middle;\n",
       "    }\n",
       "\n",
       "    .dataframe tbody tr th {\n",
       "        vertical-align: top;\n",
       "    }\n",
       "\n",
       "    .dataframe thead th {\n",
       "        text-align: right;\n",
       "    }\n",
       "</style>\n",
       "<table border=\"1\" class=\"dataframe\">\n",
       "  <thead>\n",
       "    <tr style=\"text-align: right;\">\n",
       "      <th></th>\n",
       "      <th>tourney_id</th>\n",
       "      <th>tourney_name</th>\n",
       "      <th>surface</th>\n",
       "      <th>draw_size</th>\n",
       "      <th>tourney_level</th>\n",
       "      <th>tourney_date</th>\n",
       "      <th>match_num</th>\n",
       "      <th>winner_id</th>\n",
       "      <th>winner_seed</th>\n",
       "      <th>winner_entry</th>\n",
       "      <th>...</th>\n",
       "      <th>l_1stIn</th>\n",
       "      <th>l_1stWon</th>\n",
       "      <th>l_2ndWon</th>\n",
       "      <th>l_SvGms</th>\n",
       "      <th>l_bpSaved</th>\n",
       "      <th>l_bpFaced</th>\n",
       "      <th>winner_rank</th>\n",
       "      <th>winner_rank_points</th>\n",
       "      <th>loser_rank</th>\n",
       "      <th>loser_rank_points</th>\n",
       "    </tr>\n",
       "  </thead>\n",
       "  <tbody>\n",
       "    <tr>\n",
       "      <th>0</th>\n",
       "      <td>2021-0096</td>\n",
       "      <td>Tokyo Olympics</td>\n",
       "      <td>Hard</td>\n",
       "      <td>64</td>\n",
       "      <td>A</td>\n",
       "      <td>20210724</td>\n",
       "      <td>237</td>\n",
       "      <td>126207</td>\n",
       "      <td>NaN</td>\n",
       "      <td>NaN</td>\n",
       "      <td>...</td>\n",
       "      <td>NaN</td>\n",
       "      <td>NaN</td>\n",
       "      <td>NaN</td>\n",
       "      <td>NaN</td>\n",
       "      <td>NaN</td>\n",
       "      <td>NaN</td>\n",
       "      <td>53.0</td>\n",
       "      <td>1228.0</td>\n",
       "      <td>71.0</td>\n",
       "      <td>996.0</td>\n",
       "    </tr>\n",
       "    <tr>\n",
       "      <th>1</th>\n",
       "      <td>2021-0096</td>\n",
       "      <td>Tokyo Olympics</td>\n",
       "      <td>Hard</td>\n",
       "      <td>64</td>\n",
       "      <td>A</td>\n",
       "      <td>20210724</td>\n",
       "      <td>238</td>\n",
       "      <td>105526</td>\n",
       "      <td>NaN</td>\n",
       "      <td>NaN</td>\n",
       "      <td>...</td>\n",
       "      <td>NaN</td>\n",
       "      <td>NaN</td>\n",
       "      <td>NaN</td>\n",
       "      <td>NaN</td>\n",
       "      <td>NaN</td>\n",
       "      <td>NaN</td>\n",
       "      <td>48.0</td>\n",
       "      <td>1410.0</td>\n",
       "      <td>95.0</td>\n",
       "      <td>829.0</td>\n",
       "    </tr>\n",
       "    <tr>\n",
       "      <th>2</th>\n",
       "      <td>2021-0096</td>\n",
       "      <td>Tokyo Olympics</td>\n",
       "      <td>Hard</td>\n",
       "      <td>64</td>\n",
       "      <td>A</td>\n",
       "      <td>20210724</td>\n",
       "      <td>239</td>\n",
       "      <td>111576</td>\n",
       "      <td>NaN</td>\n",
       "      <td>NaN</td>\n",
       "      <td>...</td>\n",
       "      <td>NaN</td>\n",
       "      <td>NaN</td>\n",
       "      <td>NaN</td>\n",
       "      <td>NaN</td>\n",
       "      <td>NaN</td>\n",
       "      <td>NaN</td>\n",
       "      <td>160.0</td>\n",
       "      <td>471.0</td>\n",
       "      <td>197.0</td>\n",
       "      <td>354.0</td>\n",
       "    </tr>\n",
       "    <tr>\n",
       "      <th>3</th>\n",
       "      <td>2021-0096</td>\n",
       "      <td>Tokyo Olympics</td>\n",
       "      <td>Hard</td>\n",
       "      <td>64</td>\n",
       "      <td>A</td>\n",
       "      <td>20210724</td>\n",
       "      <td>240</td>\n",
       "      <td>105357</td>\n",
       "      <td>NaN</td>\n",
       "      <td>NaN</td>\n",
       "      <td>...</td>\n",
       "      <td>NaN</td>\n",
       "      <td>NaN</td>\n",
       "      <td>NaN</td>\n",
       "      <td>NaN</td>\n",
       "      <td>NaN</td>\n",
       "      <td>NaN</td>\n",
       "      <td>44.0</td>\n",
       "      <td>1476.0</td>\n",
       "      <td>61.0</td>\n",
       "      <td>1106.0</td>\n",
       "    </tr>\n",
       "    <tr>\n",
       "      <th>4</th>\n",
       "      <td>2021-0096</td>\n",
       "      <td>Tokyo Olympics</td>\n",
       "      <td>Hard</td>\n",
       "      <td>64</td>\n",
       "      <td>A</td>\n",
       "      <td>20210724</td>\n",
       "      <td>241</td>\n",
       "      <td>207830</td>\n",
       "      <td>NaN</td>\n",
       "      <td>NaN</td>\n",
       "      <td>...</td>\n",
       "      <td>NaN</td>\n",
       "      <td>NaN</td>\n",
       "      <td>NaN</td>\n",
       "      <td>NaN</td>\n",
       "      <td>NaN</td>\n",
       "      <td>NaN</td>\n",
       "      <td>145.0</td>\n",
       "      <td>525.0</td>\n",
       "      <td>137.0</td>\n",
       "      <td>570.0</td>\n",
       "    </tr>\n",
       "  </tbody>\n",
       "</table>\n",
       "<p>5 rows × 49 columns</p>\n",
       "</div>"
      ],
      "text/plain": [
       "  tourney_id    tourney_name surface  draw_size tourney_level  tourney_date  \\\n",
       "0  2021-0096  Tokyo Olympics    Hard         64             A      20210724   \n",
       "1  2021-0096  Tokyo Olympics    Hard         64             A      20210724   \n",
       "2  2021-0096  Tokyo Olympics    Hard         64             A      20210724   \n",
       "3  2021-0096  Tokyo Olympics    Hard         64             A      20210724   \n",
       "4  2021-0096  Tokyo Olympics    Hard         64             A      20210724   \n",
       "\n",
       "   match_num  winner_id  winner_seed winner_entry  ... l_1stIn l_1stWon  \\\n",
       "0        237     126207          NaN          NaN  ...     NaN      NaN   \n",
       "1        238     105526          NaN          NaN  ...     NaN      NaN   \n",
       "2        239     111576          NaN          NaN  ...     NaN      NaN   \n",
       "3        240     105357          NaN          NaN  ...     NaN      NaN   \n",
       "4        241     207830          NaN          NaN  ...     NaN      NaN   \n",
       "\n",
       "   l_2ndWon l_SvGms  l_bpSaved  l_bpFaced  winner_rank winner_rank_points  \\\n",
       "0       NaN     NaN        NaN        NaN         53.0             1228.0   \n",
       "1       NaN     NaN        NaN        NaN         48.0             1410.0   \n",
       "2       NaN     NaN        NaN        NaN        160.0              471.0   \n",
       "3       NaN     NaN        NaN        NaN         44.0             1476.0   \n",
       "4       NaN     NaN        NaN        NaN        145.0              525.0   \n",
       "\n",
       "  loser_rank loser_rank_points  \n",
       "0       71.0             996.0  \n",
       "1       95.0             829.0  \n",
       "2      197.0             354.0  \n",
       "3       61.0            1106.0  \n",
       "4      137.0             570.0  \n",
       "\n",
       "[5 rows x 49 columns]"
      ]
     },
     "execution_count": 138,
     "metadata": {},
     "output_type": "execute_result"
    }
   ],
   "source": [
    "matches_2021.head()"
   ]
  },
  {
   "cell_type": "code",
   "execution_count": 139,
   "id": "f2007af0",
   "metadata": {},
   "outputs": [
    {
     "data": {
      "text/html": [
       "<div>\n",
       "<style scoped>\n",
       "    .dataframe tbody tr th:only-of-type {\n",
       "        vertical-align: middle;\n",
       "    }\n",
       "\n",
       "    .dataframe tbody tr th {\n",
       "        vertical-align: top;\n",
       "    }\n",
       "\n",
       "    .dataframe thead th {\n",
       "        text-align: right;\n",
       "    }\n",
       "</style>\n",
       "<table border=\"1\" class=\"dataframe\">\n",
       "  <thead>\n",
       "    <tr style=\"text-align: right;\">\n",
       "      <th></th>\n",
       "      <th>tourney_id</th>\n",
       "      <th>tourney_name</th>\n",
       "      <th>surface</th>\n",
       "      <th>draw_size</th>\n",
       "      <th>tourney_level</th>\n",
       "      <th>tourney_date</th>\n",
       "      <th>match_num</th>\n",
       "      <th>winner_id</th>\n",
       "      <th>winner_seed</th>\n",
       "      <th>winner_entry</th>\n",
       "      <th>...</th>\n",
       "      <th>l_1stIn</th>\n",
       "      <th>l_1stWon</th>\n",
       "      <th>l_2ndWon</th>\n",
       "      <th>l_SvGms</th>\n",
       "      <th>l_bpSaved</th>\n",
       "      <th>l_bpFaced</th>\n",
       "      <th>winner_rank</th>\n",
       "      <th>winner_rank_points</th>\n",
       "      <th>loser_rank</th>\n",
       "      <th>loser_rank_points</th>\n",
       "    </tr>\n",
       "  </thead>\n",
       "  <tbody>\n",
       "    <tr>\n",
       "      <th>0</th>\n",
       "      <td>2022-8888</td>\n",
       "      <td>Atp Cup</td>\n",
       "      <td>Hard</td>\n",
       "      <td>16</td>\n",
       "      <td>A</td>\n",
       "      <td>20220103</td>\n",
       "      <td>300</td>\n",
       "      <td>200000</td>\n",
       "      <td>NaN</td>\n",
       "      <td>NaN</td>\n",
       "      <td>...</td>\n",
       "      <td>50.0</td>\n",
       "      <td>32.0</td>\n",
       "      <td>7.0</td>\n",
       "      <td>10.0</td>\n",
       "      <td>3.0</td>\n",
       "      <td>5.0</td>\n",
       "      <td>11.0</td>\n",
       "      <td>3308.0</td>\n",
       "      <td>19.0</td>\n",
       "      <td>2260.0</td>\n",
       "    </tr>\n",
       "    <tr>\n",
       "      <th>1</th>\n",
       "      <td>2022-8888</td>\n",
       "      <td>Atp Cup</td>\n",
       "      <td>Hard</td>\n",
       "      <td>16</td>\n",
       "      <td>A</td>\n",
       "      <td>20220103</td>\n",
       "      <td>299</td>\n",
       "      <td>133430</td>\n",
       "      <td>NaN</td>\n",
       "      <td>NaN</td>\n",
       "      <td>...</td>\n",
       "      <td>33.0</td>\n",
       "      <td>21.0</td>\n",
       "      <td>8.0</td>\n",
       "      <td>9.0</td>\n",
       "      <td>3.0</td>\n",
       "      <td>6.0</td>\n",
       "      <td>14.0</td>\n",
       "      <td>2475.0</td>\n",
       "      <td>20.0</td>\n",
       "      <td>2230.0</td>\n",
       "    </tr>\n",
       "    <tr>\n",
       "      <th>2</th>\n",
       "      <td>2022-8888</td>\n",
       "      <td>Atp Cup</td>\n",
       "      <td>Hard</td>\n",
       "      <td>16</td>\n",
       "      <td>A</td>\n",
       "      <td>20220103</td>\n",
       "      <td>298</td>\n",
       "      <td>105138</td>\n",
       "      <td>NaN</td>\n",
       "      <td>NaN</td>\n",
       "      <td>...</td>\n",
       "      <td>80.0</td>\n",
       "      <td>62.0</td>\n",
       "      <td>20.0</td>\n",
       "      <td>16.0</td>\n",
       "      <td>6.0</td>\n",
       "      <td>7.0</td>\n",
       "      <td>19.0</td>\n",
       "      <td>2260.0</td>\n",
       "      <td>9.0</td>\n",
       "      <td>3706.0</td>\n",
       "    </tr>\n",
       "    <tr>\n",
       "      <th>3</th>\n",
       "      <td>2022-8888</td>\n",
       "      <td>Atp Cup</td>\n",
       "      <td>Hard</td>\n",
       "      <td>16</td>\n",
       "      <td>A</td>\n",
       "      <td>20220103</td>\n",
       "      <td>297</td>\n",
       "      <td>105807</td>\n",
       "      <td>NaN</td>\n",
       "      <td>NaN</td>\n",
       "      <td>...</td>\n",
       "      <td>27.0</td>\n",
       "      <td>17.0</td>\n",
       "      <td>1.0</td>\n",
       "      <td>7.0</td>\n",
       "      <td>4.0</td>\n",
       "      <td>8.0</td>\n",
       "      <td>20.0</td>\n",
       "      <td>2230.0</td>\n",
       "      <td>860.0</td>\n",
       "      <td>18.0</td>\n",
       "    </tr>\n",
       "    <tr>\n",
       "      <th>4</th>\n",
       "      <td>2022-8888</td>\n",
       "      <td>Atp Cup</td>\n",
       "      <td>Hard</td>\n",
       "      <td>16</td>\n",
       "      <td>A</td>\n",
       "      <td>20220103</td>\n",
       "      <td>296</td>\n",
       "      <td>106421</td>\n",
       "      <td>NaN</td>\n",
       "      <td>NaN</td>\n",
       "      <td>...</td>\n",
       "      <td>35.0</td>\n",
       "      <td>22.0</td>\n",
       "      <td>4.0</td>\n",
       "      <td>8.0</td>\n",
       "      <td>3.0</td>\n",
       "      <td>7.0</td>\n",
       "      <td>2.0</td>\n",
       "      <td>8640.0</td>\n",
       "      <td>11.0</td>\n",
       "      <td>3308.0</td>\n",
       "    </tr>\n",
       "  </tbody>\n",
       "</table>\n",
       "<p>5 rows × 49 columns</p>\n",
       "</div>"
      ],
      "text/plain": [
       "  tourney_id tourney_name surface  draw_size tourney_level  tourney_date  \\\n",
       "0  2022-8888      Atp Cup    Hard         16             A      20220103   \n",
       "1  2022-8888      Atp Cup    Hard         16             A      20220103   \n",
       "2  2022-8888      Atp Cup    Hard         16             A      20220103   \n",
       "3  2022-8888      Atp Cup    Hard         16             A      20220103   \n",
       "4  2022-8888      Atp Cup    Hard         16             A      20220103   \n",
       "\n",
       "   match_num  winner_id  winner_seed winner_entry  ... l_1stIn l_1stWon  \\\n",
       "0        300     200000          NaN          NaN  ...    50.0     32.0   \n",
       "1        299     133430          NaN          NaN  ...    33.0     21.0   \n",
       "2        298     105138          NaN          NaN  ...    80.0     62.0   \n",
       "3        297     105807          NaN          NaN  ...    27.0     17.0   \n",
       "4        296     106421          NaN          NaN  ...    35.0     22.0   \n",
       "\n",
       "   l_2ndWon l_SvGms  l_bpSaved  l_bpFaced  winner_rank winner_rank_points  \\\n",
       "0       7.0    10.0        3.0        5.0         11.0             3308.0   \n",
       "1       8.0     9.0        3.0        6.0         14.0             2475.0   \n",
       "2      20.0    16.0        6.0        7.0         19.0             2260.0   \n",
       "3       1.0     7.0        4.0        8.0         20.0             2230.0   \n",
       "4       4.0     8.0        3.0        7.0          2.0             8640.0   \n",
       "\n",
       "  loser_rank loser_rank_points  \n",
       "0       19.0            2260.0  \n",
       "1       20.0            2230.0  \n",
       "2        9.0            3706.0  \n",
       "3      860.0              18.0  \n",
       "4       11.0            3308.0  \n",
       "\n",
       "[5 rows x 49 columns]"
      ]
     },
     "execution_count": 139,
     "metadata": {},
     "output_type": "execute_result"
    }
   ],
   "source": [
    "matches_2022.head()"
   ]
  },
  {
   "cell_type": "markdown",
   "id": "cc3bfe62",
   "metadata": {},
   "source": [
    "Let's see the columns in the dataframes."
   ]
  },
  {
   "cell_type": "code",
   "execution_count": 140,
   "id": "83aa29a2",
   "metadata": {},
   "outputs": [
    {
     "data": {
      "text/plain": [
       "Index(['tourney_id', 'tourney_name', 'surface', 'draw_size', 'tourney_level',\n",
       "       'tourney_date', 'match_num', 'winner_id', 'winner_seed', 'winner_entry',\n",
       "       'winner_name', 'winner_hand', 'winner_ht', 'winner_ioc', 'winner_age',\n",
       "       'loser_id', 'loser_seed', 'loser_entry', 'loser_name', 'loser_hand',\n",
       "       'loser_ht', 'loser_ioc', 'loser_age', 'score', 'best_of', 'round',\n",
       "       'minutes', 'w_ace', 'w_df', 'w_svpt', 'w_1stIn', 'w_1stWon', 'w_2ndWon',\n",
       "       'w_SvGms', 'w_bpSaved', 'w_bpFaced', 'l_ace', 'l_df', 'l_svpt',\n",
       "       'l_1stIn', 'l_1stWon', 'l_2ndWon', 'l_SvGms', 'l_bpSaved', 'l_bpFaced',\n",
       "       'winner_rank', 'winner_rank_points', 'loser_rank', 'loser_rank_points'],\n",
       "      dtype='object')"
      ]
     },
     "execution_count": 140,
     "metadata": {},
     "output_type": "execute_result"
    }
   ],
   "source": [
    "matches_2021.columns"
   ]
  },
  {
   "cell_type": "code",
   "execution_count": 141,
   "id": "1ccc4a23",
   "metadata": {},
   "outputs": [
    {
     "data": {
      "text/plain": [
       "True"
      ]
     },
     "execution_count": 141,
     "metadata": {},
     "output_type": "execute_result"
    }
   ],
   "source": [
    "#Sanity check to see if the column names for both dataframes are the same.\n",
    "list(matches_2021.columns) == list(matches_2022.columns)"
   ]
  },
  {
   "cell_type": "markdown",
   "id": "75b45900",
   "metadata": {},
   "source": [
    "Let's convert the 2 dataframes into 4 dataframes. 1 dataframe with matches in 2021 that Carlos Alcaraz won, 1 dataframe with matches in 2021 that Carlos Alcaraz that lost. The same applies for 2022 matches."
   ]
  },
  {
   "cell_type": "code",
   "execution_count": 142,
   "id": "e7f3bffd",
   "metadata": {},
   "outputs": [],
   "source": [
    "alcaraz_2021_win = matches_2021[matches_2021[\"winner_name\"] == \"Carlos Alcaraz\"]\n",
    "alcaraz_2021_lose = matches_2021[matches_2021[\"loser_name\"] == \"Carlos Alcaraz\"]\n",
    "alcaraz_2022_win = matches_2022[matches_2022[\"winner_name\"] == \"Carlos Alcaraz\"]\n",
    "alcaraz_2022_lose = matches_2022[matches_2022[\"loser_name\"] == \"Carlos Alcaraz\"]"
   ]
  },
  {
   "cell_type": "markdown",
   "id": "57284477",
   "metadata": {},
   "source": [
    "Using the dictionary for the column names in this dataframe provided by the source (https://github.com/JeffSackmann/tennis_atp/blob/master/matches_data_dictionary.txt), we will use the statistics that are best believed to be the most represetative or influencial in the outcome of a match. Rationale will be provided below.\n",
    "\n",
    "- w_ace (Number of aces hit in winning matches)\n",
    "- w_df (Number of double faults hit in winning matches)\n",
    "- w_1stIn (Number of first serves made in winning matches)\n",
    "- w_1stWon (Number of first serve points won in winning matches)\n",
    "- w_bpFaced (Number of break points faced in winning matches)\n",
    "- l_aces (Number of aces hit in losing matches)\n",
    "- l_df (Number of double faults hit in losing matches)\n",
    "- l_1stIn (Number of first serves made in losing matches)\n",
    "- l_1stWon (Number of first serve points won in losing matches)\n",
    "- l_bpsFaced(Number of break points faced in losing matches)\n",
    "\n",
    "Rationale of the statistics used:\n",
    "- **Number of Aces** : Aces are unreturnable serves hit by the player. The more aces the better, as aces are regarded as \"free points\".\n",
    "\n",
    "- **Number of Double Faults** : Double faults are two consecutive serve errors by a player in a single point. Double faults are considered \"giving away free points\", thus less is better in this case.\n",
    "\n",
    "- **Number of 1st Serves In**: Since first serves are usually the faster and more powerful between the two serves that are given to player, the number of first serves put in is very critical. First serves also are serves usually to set up a point favorable for the player that is serving. Thus, hitting more first serve is better.\n",
    "\n",
    "- **Number of 1st Serve Points Won**: Winning more first serve points means that the player who is serving is able to effectively use their first serves to set up the point and win those points. If they are losing their first serve points, they are not using their first serves effectively. Thus, more is better.\n",
    "\n",
    "- **Number of Break Points Faced**: Since break points are points where the player who is serving is \"about to lose\" their service game, it is not very favorable to face break points. Break points also indicates that the player either has a weak serve, or has a weak service game in general. Less Break points faced, the better.\n",
    "\n",
    "Let's now filter the dataframes down to these 4 columns."
   ]
  },
  {
   "cell_type": "code",
   "execution_count": 143,
   "id": "a9ba999d",
   "metadata": {},
   "outputs": [],
   "source": [
    "win_filter = [\"w_ace\", \"w_df\", \"w_1stIn\", \"w_1stWon\", \"w_bpFaced\"]\n",
    "lose_filter = [\"l_ace\", \"l_df\", \"l_1stIn\", \"l_1stWon\", \"l_bpFaced\"]\n",
    "\n",
    "alcaraz_2021_win_filtered = alcaraz_2021_win[win_filter]\n",
    "alcaraz_2021_lose_filtered = alcaraz_2021_lose[lose_filter]\n",
    "alcaraz_2022_win_filtered = alcaraz_2022_win[win_filter]\n",
    "alcaraz_2022_lose_filtered = alcaraz_2022_lose[lose_filter]"
   ]
  },
  {
   "cell_type": "markdown",
   "id": "3a0aef4f",
   "metadata": {},
   "source": [
    "Before merging the dataframes, let's rename the columns. Number of aces hit in winning or losing matches does not matter, as we are grouping the matches into 2 separate years, not the outcome of the match.\n",
    "\n",
    "So, \n",
    "- w_ace or l_ace -> aces\n",
    "- w_df or l_df -> dfs\n",
    "- w_1stIn or l_1stIn -> 1stIn\n",
    "- w_1stWon or l_1stWon -> 1stWon\n",
    "- w_bpFaced or l_bpFaced -> bpFaced"
   ]
  },
  {
   "cell_type": "code",
   "execution_count": 144,
   "id": "8e85820e",
   "metadata": {},
   "outputs": [],
   "source": [
    "rename_win = {\"w_ace\": \"aces\", \"w_df\": \"dfs\", \"w_1stIn\":\"1stIn\", \"w_1stWon\": \"1stWon\", \"w_bpFaced\":\"bpFaced\"}\n",
    "rename_lose = {\"l_ace\": \"aces\", \"l_df\": \"dfs\", \"l_1stIn\":\"1stIn\", \"l_1stWon\": \"1stWon\", \"l_bpFaced\":\"bpFaced\"}\n",
    "\n",
    "alcaraz_2021_win_filtered = alcaraz_2021_win_filtered.rename(columns = rename_win)\n",
    "alcaraz_2021_lose_filtered = alcaraz_2021_lose_filtered.rename(columns = rename_lose)\n",
    "alcaraz_2022_win_filtered = alcaraz_2022_win_filtered.rename(columns = rename_win)\n",
    "alcaraz_2022_lose_filtered = alcaraz_2022_lose_filtered.rename(columns = rename_lose)"
   ]
  },
  {
   "cell_type": "markdown",
   "id": "1ab315c8",
   "metadata": {},
   "source": [
    "Let's now merge the 2 dataframes of 2021 into one and same from 2022, resulting into 2 separate dataframes, and check them out."
   ]
  },
  {
   "cell_type": "code",
   "execution_count": 145,
   "id": "14dab0cc",
   "metadata": {},
   "outputs": [
    {
     "data": {
      "text/html": [
       "<div>\n",
       "<style scoped>\n",
       "    .dataframe tbody tr th:only-of-type {\n",
       "        vertical-align: middle;\n",
       "    }\n",
       "\n",
       "    .dataframe tbody tr th {\n",
       "        vertical-align: top;\n",
       "    }\n",
       "\n",
       "    .dataframe thead th {\n",
       "        text-align: right;\n",
       "    }\n",
       "</style>\n",
       "<table border=\"1\" class=\"dataframe\">\n",
       "  <thead>\n",
       "    <tr style=\"text-align: right;\">\n",
       "      <th></th>\n",
       "      <th>aces</th>\n",
       "      <th>dfs</th>\n",
       "      <th>1stIn</th>\n",
       "      <th>1stWon</th>\n",
       "      <th>bpFaced</th>\n",
       "    </tr>\n",
       "  </thead>\n",
       "  <tbody>\n",
       "    <tr>\n",
       "      <th>290</th>\n",
       "      <td>3.0</td>\n",
       "      <td>1.0</td>\n",
       "      <td>39.0</td>\n",
       "      <td>25.0</td>\n",
       "      <td>9.0</td>\n",
       "    </tr>\n",
       "    <tr>\n",
       "      <th>303</th>\n",
       "      <td>3.0</td>\n",
       "      <td>1.0</td>\n",
       "      <td>41.0</td>\n",
       "      <td>24.0</td>\n",
       "      <td>10.0</td>\n",
       "    </tr>\n",
       "    <tr>\n",
       "      <th>309</th>\n",
       "      <td>6.0</td>\n",
       "      <td>4.0</td>\n",
       "      <td>61.0</td>\n",
       "      <td>49.0</td>\n",
       "      <td>1.0</td>\n",
       "    </tr>\n",
       "    <tr>\n",
       "      <th>347</th>\n",
       "      <td>2.0</td>\n",
       "      <td>2.0</td>\n",
       "      <td>69.0</td>\n",
       "      <td>48.0</td>\n",
       "      <td>5.0</td>\n",
       "    </tr>\n",
       "    <tr>\n",
       "      <th>369</th>\n",
       "      <td>3.0</td>\n",
       "      <td>4.0</td>\n",
       "      <td>45.0</td>\n",
       "      <td>36.0</td>\n",
       "      <td>2.0</td>\n",
       "    </tr>\n",
       "  </tbody>\n",
       "</table>\n",
       "</div>"
      ],
      "text/plain": [
       "     aces  dfs  1stIn  1stWon  bpFaced\n",
       "290   3.0  1.0   39.0    25.0      9.0\n",
       "303   3.0  1.0   41.0    24.0     10.0\n",
       "309   6.0  4.0   61.0    49.0      1.0\n",
       "347   2.0  2.0   69.0    48.0      5.0\n",
       "369   3.0  4.0   45.0    36.0      2.0"
      ]
     },
     "execution_count": 145,
     "metadata": {},
     "output_type": "execute_result"
    }
   ],
   "source": [
    "alcaraz_2021 = pd.concat([alcaraz_2021_win_filtered, alcaraz_2021_lose_filtered])\n",
    "alcaraz_2021.head()"
   ]
  },
  {
   "cell_type": "code",
   "execution_count": 146,
   "id": "09404754",
   "metadata": {},
   "outputs": [
    {
     "data": {
      "text/html": [
       "<div>\n",
       "<style scoped>\n",
       "    .dataframe tbody tr th:only-of-type {\n",
       "        vertical-align: middle;\n",
       "    }\n",
       "\n",
       "    .dataframe tbody tr th {\n",
       "        vertical-align: top;\n",
       "    }\n",
       "\n",
       "    .dataframe thead th {\n",
       "        text-align: right;\n",
       "    }\n",
       "</style>\n",
       "<table border=\"1\" class=\"dataframe\">\n",
       "  <thead>\n",
       "    <tr style=\"text-align: right;\">\n",
       "      <th></th>\n",
       "      <th>aces</th>\n",
       "      <th>dfs</th>\n",
       "      <th>1stIn</th>\n",
       "      <th>1stWon</th>\n",
       "      <th>bpFaced</th>\n",
       "    </tr>\n",
       "  </thead>\n",
       "  <tbody>\n",
       "    <tr>\n",
       "      <th>174</th>\n",
       "      <td>12.0</td>\n",
       "      <td>3.0</td>\n",
       "      <td>42.0</td>\n",
       "      <td>33.0</td>\n",
       "      <td>1.0</td>\n",
       "    </tr>\n",
       "    <tr>\n",
       "      <th>232</th>\n",
       "      <td>3.0</td>\n",
       "      <td>3.0</td>\n",
       "      <td>61.0</td>\n",
       "      <td>45.0</td>\n",
       "      <td>1.0</td>\n",
       "    </tr>\n",
       "    <tr>\n",
       "      <th>509</th>\n",
       "      <td>1.0</td>\n",
       "      <td>0.0</td>\n",
       "      <td>34.0</td>\n",
       "      <td>26.0</td>\n",
       "      <td>4.0</td>\n",
       "    </tr>\n",
       "    <tr>\n",
       "      <th>510</th>\n",
       "      <td>0.0</td>\n",
       "      <td>3.0</td>\n",
       "      <td>52.0</td>\n",
       "      <td>35.0</td>\n",
       "      <td>6.0</td>\n",
       "    </tr>\n",
       "    <tr>\n",
       "      <th>512</th>\n",
       "      <td>1.0</td>\n",
       "      <td>4.0</td>\n",
       "      <td>41.0</td>\n",
       "      <td>30.0</td>\n",
       "      <td>2.0</td>\n",
       "    </tr>\n",
       "  </tbody>\n",
       "</table>\n",
       "</div>"
      ],
      "text/plain": [
       "     aces  dfs  1stIn  1stWon  bpFaced\n",
       "174  12.0  3.0   42.0    33.0      1.0\n",
       "232   3.0  3.0   61.0    45.0      1.0\n",
       "509   1.0  0.0   34.0    26.0      4.0\n",
       "510   0.0  3.0   52.0    35.0      6.0\n",
       "512   1.0  4.0   41.0    30.0      2.0"
      ]
     },
     "execution_count": 146,
     "metadata": {},
     "output_type": "execute_result"
    }
   ],
   "source": [
    "alcaraz_2022 = pd.concat([alcaraz_2022_win_filtered, alcaraz_2022_lose_filtered])\n",
    "alcaraz_2022.head()"
   ]
  },
  {
   "cell_type": "markdown",
   "id": "96f40114",
   "metadata": {},
   "source": [
    "Let's make sure that the dataframes have no rows (matches) that have NaN values, or missing data, so that we can conduct more clear analysis later on."
   ]
  },
  {
   "cell_type": "code",
   "execution_count": 147,
   "id": "e01dfac7",
   "metadata": {},
   "outputs": [
    {
     "name": "stdout",
     "output_type": "stream",
     "text": [
      "False\n",
      "False\n",
      "False\n",
      "False\n",
      "False\n"
     ]
    }
   ],
   "source": [
    "#For 2021 Dataframe\n",
    "for column in list(alcaraz_2021.columns):\n",
    "    if alcaraz_2021[column].isnull().values.any():\n",
    "        print(\"True\");\n",
    "    else:\n",
    "        print(\"False\");"
   ]
  },
  {
   "cell_type": "code",
   "execution_count": 148,
   "id": "2281229e",
   "metadata": {},
   "outputs": [
    {
     "name": "stdout",
     "output_type": "stream",
     "text": [
      "True\n",
      "True\n",
      "True\n",
      "True\n",
      "True\n"
     ]
    }
   ],
   "source": [
    "#For 2022 Dataframe\n",
    "for column in list(alcaraz_2022.columns):\n",
    "    if alcaraz_2022[column].isnull().values.any():\n",
    "        print(\"True\");\n",
    "    else:\n",
    "        print(\"False\");"
   ]
  },
  {
   "cell_type": "markdown",
   "id": "d03bf142",
   "metadata": {},
   "source": [
    "There is a row that is missing some data. Let's see which row it is, and remove it from the dataframe, in this case, the Matches from 2022."
   ]
  },
  {
   "cell_type": "code",
   "execution_count": 149,
   "id": "2d741198",
   "metadata": {},
   "outputs": [
    {
     "data": {
      "text/html": [
       "<div>\n",
       "<style scoped>\n",
       "    .dataframe tbody tr th:only-of-type {\n",
       "        vertical-align: middle;\n",
       "    }\n",
       "\n",
       "    .dataframe tbody tr th {\n",
       "        vertical-align: top;\n",
       "    }\n",
       "\n",
       "    .dataframe thead th {\n",
       "        text-align: right;\n",
       "    }\n",
       "</style>\n",
       "<table border=\"1\" class=\"dataframe\">\n",
       "  <thead>\n",
       "    <tr style=\"text-align: right;\">\n",
       "      <th></th>\n",
       "      <th>aces</th>\n",
       "      <th>dfs</th>\n",
       "      <th>1stIn</th>\n",
       "      <th>1stWon</th>\n",
       "      <th>bpFaced</th>\n",
       "    </tr>\n",
       "  </thead>\n",
       "  <tbody>\n",
       "    <tr>\n",
       "      <th>2724</th>\n",
       "      <td>NaN</td>\n",
       "      <td>NaN</td>\n",
       "      <td>NaN</td>\n",
       "      <td>NaN</td>\n",
       "      <td>NaN</td>\n",
       "    </tr>\n",
       "    <tr>\n",
       "      <th>2722</th>\n",
       "      <td>NaN</td>\n",
       "      <td>NaN</td>\n",
       "      <td>NaN</td>\n",
       "      <td>NaN</td>\n",
       "      <td>NaN</td>\n",
       "    </tr>\n",
       "  </tbody>\n",
       "</table>\n",
       "</div>"
      ],
      "text/plain": [
       "      aces  dfs  1stIn  1stWon  bpFaced\n",
       "2724   NaN  NaN    NaN     NaN      NaN\n",
       "2722   NaN  NaN    NaN     NaN      NaN"
      ]
     },
     "execution_count": 149,
     "metadata": {},
     "output_type": "execute_result"
    }
   ],
   "source": [
    "alcaraz_2022[alcaraz_2022.isna().any(axis=1)]"
   ]
  },
  {
   "cell_type": "markdown",
   "id": "5ccad536",
   "metadata": {},
   "source": [
    "Looks like we have 2 matches from 2022 that have missing values. The matches with the missing values seems like toward the end of the season (based on the indexing). This is likely due to either:\n",
    "\n",
    "1. Simply data missing from the dataset\n",
    "2. Carlos Alcaraz withdrawing from the match before playing due to some reason (such as injuries)\n",
    "\n",
    "\n",
    "Let's remove these rows, and then check if there are no rows with NaN/missing values."
   ]
  },
  {
   "cell_type": "code",
   "execution_count": 150,
   "id": "1516bbe6",
   "metadata": {},
   "outputs": [],
   "source": [
    "alcaraz_2022 = alcaraz_2022[alcaraz_2022.notna().any(axis=1)]"
   ]
  },
  {
   "cell_type": "code",
   "execution_count": 151,
   "id": "9fffc4eb",
   "metadata": {},
   "outputs": [
    {
     "name": "stdout",
     "output_type": "stream",
     "text": [
      "False\n",
      "False\n",
      "False\n",
      "False\n",
      "False\n"
     ]
    }
   ],
   "source": [
    "#For 2022 Dataframe, again\n",
    "for column in list(alcaraz_2022.columns):\n",
    "    if alcaraz_2022[column].isnull().values.any():\n",
    "        print(\"True\");\n",
    "    else:\n",
    "        print(\"False\");"
   ]
  },
  {
   "cell_type": "markdown",
   "id": "21faf3a6",
   "metadata": {},
   "source": [
    "Perfect, we have filtered out the matches in 2022 that had missing data. Let's now see how many matches Carlos Alcaraz played in each year, given that there are no missing data."
   ]
  },
  {
   "cell_type": "code",
   "execution_count": 152,
   "id": "2977d154",
   "metadata": {},
   "outputs": [
    {
     "data": {
      "text/plain": [
       "49"
      ]
     },
     "execution_count": 152,
     "metadata": {},
     "output_type": "execute_result"
    }
   ],
   "source": [
    "len(alcaraz_2021)"
   ]
  },
  {
   "cell_type": "code",
   "execution_count": 153,
   "id": "54ccca57",
   "metadata": {},
   "outputs": [
    {
     "data": {
      "text/plain": [
       "68"
      ]
     },
     "execution_count": 153,
     "metadata": {},
     "output_type": "execute_result"
    }
   ],
   "source": [
    "len(alcaraz_2022)"
   ]
  },
  {
   "cell_type": "markdown",
   "id": "253d782e",
   "metadata": {},
   "source": [
    "Note that we will be calculating the average of the statistics for each dataframe. Since the number of matches Carlos Alcaraz has played in 2021 and 2022 is different (he has played in 19 more matches in 2022, given no missing data), it is better to utilize the average values to make an analysis rather than summing up the total, which may lead to misleading anaylsis and conclusion."
   ]
  },
  {
   "cell_type": "code",
   "execution_count": 154,
   "id": "a943ecf0",
   "metadata": {},
   "outputs": [],
   "source": [
    "alcaraz_2021_mean = alcaraz_2021.mean(axis=0)\n",
    "alcaraz_2022_mean = alcaraz_2022.mean(axis=0)\n",
    "\n",
    "alcaraz_2021_data = {\n",
    "    \"stat\": list(alcaraz_2021_mean.index),\n",
    "    \"value\": list(alcaraz_2021_mean.values)\n",
    "}\n",
    "\n",
    "alcaraz_2022_data = {\n",
    "    \"stat\": list(alcaraz_2022_mean.index),\n",
    "    \"value\": list(alcaraz_2022_mean.values)\n",
    "}\n",
    "\n",
    "alcaraz_2021_mean_df = pd.DataFrame(alcaraz_2021_data, columns=[\"stat\", \"value\"])\n",
    "alcaraz_2022_mean_df = pd.DataFrame(alcaraz_2022_data, columns=[\"stat\", \"value\"])\n",
    "\n",
    "alcaraz_combined = pd.concat([alcaraz_2021_mean_df, alcaraz_2022_mean_df], axis=0)"
   ]
  },
  {
   "cell_type": "markdown",
   "id": "6db7f27c",
   "metadata": {},
   "source": [
    "Let's take a look at the dataframe to see if they are implemented properly. "
   ]
  },
  {
   "cell_type": "code",
   "execution_count": 155,
   "id": "e3687be6",
   "metadata": {},
   "outputs": [
    {
     "data": {
      "text/html": [
       "<div>\n",
       "<style scoped>\n",
       "    .dataframe tbody tr th:only-of-type {\n",
       "        vertical-align: middle;\n",
       "    }\n",
       "\n",
       "    .dataframe tbody tr th {\n",
       "        vertical-align: top;\n",
       "    }\n",
       "\n",
       "    .dataframe thead th {\n",
       "        text-align: right;\n",
       "    }\n",
       "</style>\n",
       "<table border=\"1\" class=\"dataframe\">\n",
       "  <thead>\n",
       "    <tr style=\"text-align: right;\">\n",
       "      <th></th>\n",
       "      <th>stat</th>\n",
       "      <th>value</th>\n",
       "    </tr>\n",
       "  </thead>\n",
       "  <tbody>\n",
       "    <tr>\n",
       "      <th>0</th>\n",
       "      <td>aces</td>\n",
       "      <td>3.081633</td>\n",
       "    </tr>\n",
       "    <tr>\n",
       "      <th>1</th>\n",
       "      <td>dfs</td>\n",
       "      <td>2.183673</td>\n",
       "    </tr>\n",
       "    <tr>\n",
       "      <th>2</th>\n",
       "      <td>1stIn</td>\n",
       "      <td>48.734694</td>\n",
       "    </tr>\n",
       "    <tr>\n",
       "      <th>3</th>\n",
       "      <td>1stWon</td>\n",
       "      <td>33.183673</td>\n",
       "    </tr>\n",
       "    <tr>\n",
       "      <th>4</th>\n",
       "      <td>bpFaced</td>\n",
       "      <td>7.306122</td>\n",
       "    </tr>\n",
       "    <tr>\n",
       "      <th>0</th>\n",
       "      <td>aces</td>\n",
       "      <td>3.808824</td>\n",
       "    </tr>\n",
       "    <tr>\n",
       "      <th>1</th>\n",
       "      <td>dfs</td>\n",
       "      <td>2.544118</td>\n",
       "    </tr>\n",
       "    <tr>\n",
       "      <th>2</th>\n",
       "      <td>1stIn</td>\n",
       "      <td>55.250000</td>\n",
       "    </tr>\n",
       "    <tr>\n",
       "      <th>3</th>\n",
       "      <td>1stWon</td>\n",
       "      <td>39.691176</td>\n",
       "    </tr>\n",
       "    <tr>\n",
       "      <th>4</th>\n",
       "      <td>bpFaced</td>\n",
       "      <td>5.926471</td>\n",
       "    </tr>\n",
       "  </tbody>\n",
       "</table>\n",
       "</div>"
      ],
      "text/plain": [
       "      stat      value\n",
       "0     aces   3.081633\n",
       "1      dfs   2.183673\n",
       "2    1stIn  48.734694\n",
       "3   1stWon  33.183673\n",
       "4  bpFaced   7.306122\n",
       "0     aces   3.808824\n",
       "1      dfs   2.544118\n",
       "2    1stIn  55.250000\n",
       "3   1stWon  39.691176\n",
       "4  bpFaced   5.926471"
      ]
     },
     "execution_count": 155,
     "metadata": {},
     "output_type": "execute_result"
    }
   ],
   "source": [
    "alcaraz_combined"
   ]
  },
  {
   "cell_type": "markdown",
   "id": "2043965f",
   "metadata": {},
   "source": [
    "Let's also add a years column so that we can differentiate between 2021 and 2022 year statistics. The first five rows are from 2021, and next 5 rows are from 2022."
   ]
  },
  {
   "cell_type": "code",
   "execution_count": 156,
   "id": "5083e249",
   "metadata": {},
   "outputs": [
    {
     "data": {
      "text/html": [
       "<div>\n",
       "<style scoped>\n",
       "    .dataframe tbody tr th:only-of-type {\n",
       "        vertical-align: middle;\n",
       "    }\n",
       "\n",
       "    .dataframe tbody tr th {\n",
       "        vertical-align: top;\n",
       "    }\n",
       "\n",
       "    .dataframe thead th {\n",
       "        text-align: right;\n",
       "    }\n",
       "</style>\n",
       "<table border=\"1\" class=\"dataframe\">\n",
       "  <thead>\n",
       "    <tr style=\"text-align: right;\">\n",
       "      <th></th>\n",
       "      <th>stat</th>\n",
       "      <th>value</th>\n",
       "      <th>year</th>\n",
       "    </tr>\n",
       "  </thead>\n",
       "  <tbody>\n",
       "    <tr>\n",
       "      <th>0</th>\n",
       "      <td>aces</td>\n",
       "      <td>3.081633</td>\n",
       "      <td>2021</td>\n",
       "    </tr>\n",
       "    <tr>\n",
       "      <th>1</th>\n",
       "      <td>dfs</td>\n",
       "      <td>2.183673</td>\n",
       "      <td>2021</td>\n",
       "    </tr>\n",
       "    <tr>\n",
       "      <th>2</th>\n",
       "      <td>1stIn</td>\n",
       "      <td>48.734694</td>\n",
       "      <td>2021</td>\n",
       "    </tr>\n",
       "    <tr>\n",
       "      <th>3</th>\n",
       "      <td>1stWon</td>\n",
       "      <td>33.183673</td>\n",
       "      <td>2021</td>\n",
       "    </tr>\n",
       "    <tr>\n",
       "      <th>4</th>\n",
       "      <td>bpFaced</td>\n",
       "      <td>7.306122</td>\n",
       "      <td>2021</td>\n",
       "    </tr>\n",
       "    <tr>\n",
       "      <th>0</th>\n",
       "      <td>aces</td>\n",
       "      <td>3.808824</td>\n",
       "      <td>2022</td>\n",
       "    </tr>\n",
       "    <tr>\n",
       "      <th>1</th>\n",
       "      <td>dfs</td>\n",
       "      <td>2.544118</td>\n",
       "      <td>2022</td>\n",
       "    </tr>\n",
       "    <tr>\n",
       "      <th>2</th>\n",
       "      <td>1stIn</td>\n",
       "      <td>55.250000</td>\n",
       "      <td>2022</td>\n",
       "    </tr>\n",
       "    <tr>\n",
       "      <th>3</th>\n",
       "      <td>1stWon</td>\n",
       "      <td>39.691176</td>\n",
       "      <td>2022</td>\n",
       "    </tr>\n",
       "    <tr>\n",
       "      <th>4</th>\n",
       "      <td>bpFaced</td>\n",
       "      <td>5.926471</td>\n",
       "      <td>2022</td>\n",
       "    </tr>\n",
       "  </tbody>\n",
       "</table>\n",
       "</div>"
      ],
      "text/plain": [
       "      stat      value  year\n",
       "0     aces   3.081633  2021\n",
       "1      dfs   2.183673  2021\n",
       "2    1stIn  48.734694  2021\n",
       "3   1stWon  33.183673  2021\n",
       "4  bpFaced   7.306122  2021\n",
       "0     aces   3.808824  2022\n",
       "1      dfs   2.544118  2022\n",
       "2    1stIn  55.250000  2022\n",
       "3   1stWon  39.691176  2022\n",
       "4  bpFaced   5.926471  2022"
      ]
     },
     "execution_count": 156,
     "metadata": {},
     "output_type": "execute_result"
    }
   ],
   "source": [
    "year_list = [\"2021\" for i in range(5)] + [\"2022\" for i in range(5)]\n",
    "alcaraz_combined[\"year\"] = year_list\n",
    "\n",
    "alcaraz_combined"
   ]
  },
  {
   "cell_type": "markdown",
   "id": "93148acc",
   "metadata": {},
   "source": [
    "Great! Our dataframe is cleaned up and is now ready for some analysis."
   ]
  },
  {
   "cell_type": "markdown",
   "id": "2b51ef83",
   "metadata": {},
   "source": [
    "## Part 2: The Analysis - Carlos Alcaraz in 2021 vs 2022"
   ]
  },
  {
   "cell_type": "markdown",
   "id": "13539ef5",
   "metadata": {},
   "source": [
    "Let's visualize the dataframe that we have organized from above."
   ]
  },
  {
   "cell_type": "code",
   "execution_count": 157,
   "id": "9a68a1ee",
   "metadata": {},
   "outputs": [
    {
     "data": {
      "image/png": "[encoded data removed]",
      "text/plain": [
       "<Figure size 600x400 with 1 Axes>"
      ]
     },
     "metadata": {},
     "output_type": "display_data"
    }
   ],
   "source": [
    "fig, ax = plt.subplots(figsize=(6, 4))\n",
    "\n",
    "ax = sns.barplot(data = alcaraz_combined, x = \"stat\", y = \"value\", hue= \"year\");\n",
    "\n",
    "plt.xlabel(\"Statistics\")\n",
    "plt.ylabel(\"Average Values (per Match)\")\n",
    "plt.title(\"Carlos Alcaraz - 2021 vs 2022\", fontsize = 15)\n",
    "\n",
    "for container in ax.containers:\n",
    "    ax.bar_label(container, fmt='%.1f')"
   ]
  },
  {
   "cell_type": "markdown",
   "id": "817b8d98",
   "metadata": {},
   "source": [
    "From the barplot above, we can see that there is in fact quite a difference for 1st serves in, 1st service points won, and break points faced. We can can see that Alcaraz on average, put in nearly 7 (6.5 difference from 48.7 and 55.2) more first serves in 2022 compared to 2021, which indicates that he has improved his first serves and thus being able to be more aggressive and be on the offensive. And likely due to that fact, we also see that Alcaraz has won more 1st service points in 2022, which winning again, nearly 7 (6.5 difference from 39.7 and 33.2) more points compared to 2021. If we do some calculations: "
   ]
  },
  {
   "cell_type": "markdown",
   "id": "d2d8f1b3",
   "metadata": {},
   "source": [
    "$$ change_{2021} = \\frac{33.2}{48.7} = 0.682 $$\n",
    "\n",
    "$$ change_{2022} = \\frac{39.7}{55.2} = 0.719 $$"
   ]
  },
  {
   "cell_type": "markdown",
   "id": "ed497c7d",
   "metadata": {},
   "source": [
    "We can see that on average, Alcaraz has won 68.2% (very high!) of his first service points. However in 2022, that spikes up to 71.9%, which is nearly a 4% increase. Although 4% can seem like a small difference, where matches become longer and more points are played, a 4% difference can be the difference to winning or losing a match, so the 4% increase in first service points won is quite impressive.\n",
    "\n",
    "We also see that Alcaraz has faced 7.3 break points on average in 2021, compared to 5.9 in 2022. The number of break points faced is a statistic that we would like to see a decrease in, so facing 1.4 break points, or somewhere around 1 to 2 less break points per match means that Alcaraz is performing better in points before he may possibly face a break point. This means that he is more aggressive in points before the break points (and generally), which can also indicate his improvement in mental strength when in higher pressure situations.\n",
    "\n",
    "The surprising part comes from the smaller difference between aces and double faults. Starting at double faults, 2.2 double faults on average in 2021 and 2.5 double faults on average in 2022 does not necessary signify anything significant. This small increase in double faults could be caused by simply having a bad serving period in a short period of matches, or Alcaraz slightly being more aggressive on his second serves. However, we would likely say this difference is again, pretty negligible. In terms of aces, Alcaraz has hit 3.1 aces on average in 2021 compared to 3.8 aces on average in 2022. It is surprising to see based on how successful his 2022 season was, the number of aces was not as different as believed. We could round these numbers and say that Alcaraz hit 3 aces on average in 2021 compared to 4 in 2022, thus hitting nearly one more ace is quite surprising, as the amount of first serves he has put in has increased quite a lot, but the similar increase in aces is not apparent. One more ace means that he is winning one more \"free\" point which can be a difference maker in matches in critical moments, but it shows that based on his increase of 1st service points won on average, his game heavily relies on his strong groundstrokes and other technical shots such as drop shots."
   ]
  },
  {
   "cell_type": "markdown",
   "id": "43cff107",
   "metadata": {},
   "source": [
    "Let's now visualize the difference of the change of values in statstics between 2021 and 2022."
   ]
  },
  {
   "cell_type": "code",
   "execution_count": 158,
   "id": "2daa685c",
   "metadata": {},
   "outputs": [],
   "source": [
    "difference = (alcaraz_2022_mean - alcaraz_2021_mean) / alcaraz_2021_mean\n",
    "\n",
    "diff = pd.DataFrame(difference)\n",
    "diff.reset_index(inplace=True)\n",
    "diff = diff.rename(columns={\"index\":\"stat\", 0:\"% difference\"})"
   ]
  },
  {
   "cell_type": "code",
   "execution_count": 159,
   "id": "816a8aba",
   "metadata": {},
   "outputs": [
    {
     "data": {
      "image/png": "[encoded data removed]",
      "text/plain": [
       "<Figure size 600x400 with 1 Axes>"
      ]
     },
     "metadata": {},
     "output_type": "display_data"
    }
   ],
   "source": [
    "fig, ax = plt.subplots(figsize=(6, 4))\n",
    "\n",
    "ax = sns.lineplot(data = alcaraz_combined, x = \"year\", y = \"value\", hue = \"stat\");\n",
    "\n",
    "plt.xlabel(\"Year\")\n",
    "plt.ylabel(\"Average Values (per Match)\")\n",
    "plt.legend(loc='upper right', fontsize = 10)\n",
    "\n",
    "plt.title(\"Change in Values\", fontsize = 15);"
   ]
  },
  {
   "cell_type": "markdown",
   "id": "9481a847",
   "metadata": {},
   "source": [
    "The lineplot above does not really tell too much. Altough we can see which statistics increased and decreased from 2021 to 2022, the difference does not seem to be very easy to comprehend. Let's visualize is using barplots."
   ]
  },
  {
   "cell_type": "code",
   "execution_count": 160,
   "id": "309d54b5",
   "metadata": {},
   "outputs": [
    {
     "data": {
      "image/png": "[encoded data removed]",
      "text/plain": [
       "<Figure size 600x400 with 1 Axes>"
      ]
     },
     "metadata": {},
     "output_type": "display_data"
    }
   ],
   "source": [
    "fig, ax = plt.subplots(figsize=(6, 4))\n",
    "\n",
    "ax = sns.barplot(data=diff, x = \"stat\", y = \"% difference\");\n",
    "\n",
    "plt.xlabel(\"Statistics\")\n",
    "plt.ylabel(\"% difference\")\n",
    "plt.title(\"Statistics Difference - 2021 vs 2022\", fontsize = 15)\n",
    "\n",
    "for container in ax.containers:\n",
    "    ax.bar_label(container, fmt='%.2f')"
   ]
  },
  {
   "cell_type": "markdown",
   "id": "4b511aed",
   "metadata": {},
   "source": [
    "We can see the percent difference of the different statistics from 2021 to 2022. Positive difference means that there was an increase of the value per match from 2021 to 2022, and the opposite for negative difference. Although some of the percentages can seem quite significant, we have to realize that for statistics such as aces and double faults are not as significant as 1st serves in, 1st service points won, and break points faced. However, it is impressive to see that besides double faults, Alcaraz has improved in areas that are important to the matches. If Alcaraz can continue this trend or similar year by year, we may see a new \"GOAT\" conversation arise in the near future."
   ]
  },
  {
   "cell_type": "markdown",
   "id": "30a01d93",
   "metadata": {},
   "source": [
    "## Part 3: Conclusion"
   ]
  },
  {
   "cell_type": "markdown",
   "id": "52662dcf",
   "metadata": {},
   "source": [
    "Overall, we were able to spot some of the match statistics that have lead Carlos Alcaraz to have an impressive 2022 season, compared to his 2021 season where he broke into the Top 100. Here are some critical points:\n",
    "\n",
    "1) Alcaraz hit more 1st serves in on average per match (55.2 vs 48.7) in 2022 compared to 2021\n",
    "2) Alcaraz won more 1st service points on average per match (39.7 vs 33.2) in 2022 compared to 2021\n",
    "3) Alcaraz hit nearly 1 more ace on average in 2022 compared to 2021\n",
    "4) Alcaraz faced a little over 1 break point less in 2022 than 2021\n",
    "\n",
    "The difference in number of double faults hit in 2022 and 2021 is very minimal, so we will not be including this.\n",
    "\n",
    "Although these statistics do not necessarily explain every reason why Carlos Alcaraz became very successful in 2022, the points that were believed to make the most difference in fact, did show a significant improvement compared to 2021."
   ]
  }
 ],
 "metadata": {
  "kernelspec": {
   "display_name": "Python 3 (ipykernel)",
   "language": "python",
   "name": "python3"
  },
  "language_info": {
   "codemirror_mode": {
    "name": "ipython",
    "version": 3
   },
   "file_extension": ".py",
   "mimetype": "text/x-python",
   "name": "python",
   "nbconvert_exporter": "python",
   "pygments_lexer": "ipython3",
   "version": "3.10.9"
  }
 },
 "nbformat": 4,
 "nbformat_minor": 5
}
