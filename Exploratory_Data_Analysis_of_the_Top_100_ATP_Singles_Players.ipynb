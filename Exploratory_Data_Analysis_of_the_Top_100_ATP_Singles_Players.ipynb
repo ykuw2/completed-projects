{
 "cells": [
  {
   "cell_type": "markdown",
   "id": "6a8be9f3",
   "metadata": {},
   "source": [
    "# Exploratory Data Analysis on Top 100 Ranked ATP Singles Players\n",
    "### By: Yuki Kuwahara\n"
   ]
  },
  {
   "cell_type": "markdown",
   "id": "ba93843b",
   "metadata": {},
   "source": [
    "**Introduction**\n",
    "\n",
    "In this project, I will be conducting an Exploratory Data Analysis on the Top 100 Ranked ATP (Association of Tennis Professionals) Players, from the rankings from December 2022. While some rankings of players have changed (as of January 2023), almost all have been in similar rankings. \n",
    "\n",
    "My goal in this project is to find interesting patterns and what makes a Professional Male Tennis Player a Top 100 Player and analyze them by using Python and their useful data analysis and visualization libraries.\n",
    "\n",
    "The source for this dataset is found from Kaggle: https://www.kaggle.com/datasets/isaienkov/atp-ranking\n",
    "\n",
    "The dataset has the following columns:\n",
    "- Rank (integer): The Rank of each player.\n",
    "- Player Name (string): The name of each Player, formatted in Last, First.\n",
    "- Country (string): The country the player is representing, represented in 3 uppercase acronyms.\n",
    "- Total Points (integer): Total Points of each player\n",
    "- Grand Slam Points (integer): Total Points obtained from the 4 Grand Slam tournaments, each worth 2000 points.\n",
    "- Masters Points (integer): Total Points obtained from the 9 Master tournaments, each worth 1000 points.\n",
    "- Other Points (integer): Total Points from tournaments that are not Grand Slam or Masters, these include ATP 500s, 250s, Challengers, etc.\n",
    "- Tournaments (integer): How many tournaments played.\n",
    "\n",
    "Additionally to this dataset, I have added 4 additional columns that I believe would make this Exploratory Data Analysis more interesting. These are:\n",
    "\n",
    "- Racquet Brand (string): The racquet brand they are using.\n",
    "- Head Size of the Racquet (integer): The head size of the racquet they are \"using\".\n",
    "- Height (integer): Height in centimeters.\n",
    "- Age (integer): Age of each player.\n",
    "\n",
    "These informations can be found from the official site of the ATP Tour https://www.atptour.com/en/rankings/singles , \n",
    "or forums and websites such as TennisNerd https://tennisnerd.net/ and https://tt.tennis-warehouse.com/index.php .\n",
    "\n",
    "Interesting Fact: Professional Players use racquets called \"Pro Stocks\", where the racquet is not the same as the ones sold in retail. They may be racquets from previous years or generations, or custom made for them only, but in the paint job of the retail racquets. This is why when racquet manufacturers advertise their racquets, they use the term \"endorse\", not \"use\".\n"
   ]
  },
  {
   "cell_type": "code",
   "execution_count": 15,
   "id": "01136b08",
   "metadata": {},
   "outputs": [],
   "source": [
    "#Importing the necessary packages\n",
    "import matplotlib.pyplot as plt\n",
    "import numpy as np\n",
    "import pandas as pd\n",
    "import seaborn as sns\n",
    "plt.style.use('fivethirtyeight')\n",
    "sns.set(font_scale=0.9)"
   ]
  },
  {
   "cell_type": "markdown",
   "id": "117906aa",
   "metadata": {},
   "source": [
    "## Part 0: Importing the Data and Data Cleaning"
   ]
  },
  {
   "cell_type": "markdown",
   "id": "00b3f920",
   "metadata": {},
   "source": [
    "In this part, we will import our data and perform some data cleaning, if necessary."
   ]
  },
  {
   "cell_type": "code",
   "execution_count": 16,
   "id": "410d5f2e",
   "metadata": {},
   "outputs": [],
   "source": [
    "#Opening the csv file\n",
    "df = pd.read_csv(\"~/Desktop/Datasets/atp_rankings.csv\")\n",
    "\n",
    "#Since we are only going to use the Top 100 Players, we will make a new dataframe consisting of those players.\n",
    "df = df.loc[0:99, :]"
   ]
  },
  {
   "cell_type": "code",
   "execution_count": 17,
   "id": "12d06ee1",
   "metadata": {},
   "outputs": [
    {
     "data": {
      "text/html": [
       "<div>\n",
       "<style scoped>\n",
       "    .dataframe tbody tr th:only-of-type {\n",
       "        vertical-align: middle;\n",
       "    }\n",
       "\n",
       "    .dataframe tbody tr th {\n",
       "        vertical-align: top;\n",
       "    }\n",
       "\n",
       "    .dataframe thead th {\n",
       "        text-align: right;\n",
       "    }\n",
       "</style>\n",
       "<table border=\"1\" class=\"dataframe\">\n",
       "  <thead>\n",
       "    <tr style=\"text-align: right;\">\n",
       "      <th></th>\n",
       "      <th>rank</th>\n",
       "      <th>player</th>\n",
       "      <th>country</th>\n",
       "      <th>total_points</th>\n",
       "      <th>grand_slam_points</th>\n",
       "      <th>masters_points</th>\n",
       "      <th>other_points</th>\n",
       "      <th>tournaments</th>\n",
       "      <th>racquet_brand</th>\n",
       "      <th>head_size</th>\n",
       "      <th>height</th>\n",
       "      <th>age</th>\n",
       "    </tr>\n",
       "  </thead>\n",
       "  <tbody>\n",
       "    <tr>\n",
       "      <th>0</th>\n",
       "      <td>1</td>\n",
       "      <td>Alcaraz, Carlos</td>\n",
       "      <td>ESP</td>\n",
       "      <td>6820</td>\n",
       "      <td>2450</td>\n",
       "      <td>2740</td>\n",
       "      <td>1630</td>\n",
       "      <td>17</td>\n",
       "      <td>Babolat</td>\n",
       "      <td>98.0</td>\n",
       "      <td>183.0</td>\n",
       "      <td>19.0</td>\n",
       "    </tr>\n",
       "    <tr>\n",
       "      <th>1</th>\n",
       "      <td>2</td>\n",
       "      <td>Nadal, Rafael</td>\n",
       "      <td>ESP</td>\n",
       "      <td>6020</td>\n",
       "      <td>4180</td>\n",
       "      <td>890</td>\n",
       "      <td>950</td>\n",
       "      <td>14</td>\n",
       "      <td>Babolat</td>\n",
       "      <td>100.0</td>\n",
       "      <td>185.0</td>\n",
       "      <td>36.0</td>\n",
       "    </tr>\n",
       "    <tr>\n",
       "      <th>2</th>\n",
       "      <td>3</td>\n",
       "      <td>Ruud, Casper</td>\n",
       "      <td>NOR</td>\n",
       "      <td>5820</td>\n",
       "      <td>2400</td>\n",
       "      <td>1565</td>\n",
       "      <td>1855</td>\n",
       "      <td>23</td>\n",
       "      <td>Yonex</td>\n",
       "      <td>100.0</td>\n",
       "      <td>183.0</td>\n",
       "      <td>24.0</td>\n",
       "    </tr>\n",
       "    <tr>\n",
       "      <th>3</th>\n",
       "      <td>4</td>\n",
       "      <td>Tsitsipas, Stefanos</td>\n",
       "      <td>GRE</td>\n",
       "      <td>5550</td>\n",
       "      <td>910</td>\n",
       "      <td>3065</td>\n",
       "      <td>1575</td>\n",
       "      <td>23</td>\n",
       "      <td>Wilson</td>\n",
       "      <td>98.0</td>\n",
       "      <td>193.0</td>\n",
       "      <td>24.0</td>\n",
       "    </tr>\n",
       "    <tr>\n",
       "      <th>4</th>\n",
       "      <td>5</td>\n",
       "      <td>Djokovic, Novak</td>\n",
       "      <td>SRB</td>\n",
       "      <td>4820</td>\n",
       "      <td>360</td>\n",
       "      <td>1970</td>\n",
       "      <td>2490</td>\n",
       "      <td>14</td>\n",
       "      <td>Head</td>\n",
       "      <td>95.0</td>\n",
       "      <td>188.0</td>\n",
       "      <td>35.0</td>\n",
       "    </tr>\n",
       "  </tbody>\n",
       "</table>\n",
       "</div>"
      ],
      "text/plain": [
       "   rank               player country  total_points  grand_slam_points  \\\n",
       "0     1      Alcaraz, Carlos     ESP          6820               2450   \n",
       "1     2        Nadal, Rafael     ESP          6020               4180   \n",
       "2     3         Ruud, Casper     NOR          5820               2400   \n",
       "3     4  Tsitsipas, Stefanos     GRE          5550                910   \n",
       "4     5      Djokovic, Novak     SRB          4820                360   \n",
       "\n",
       "   masters_points  other_points  tournaments racquet_brand  head_size  height  \\\n",
       "0            2740          1630           17       Babolat       98.0   183.0   \n",
       "1             890           950           14       Babolat      100.0   185.0   \n",
       "2            1565          1855           23         Yonex      100.0   183.0   \n",
       "3            3065          1575           23        Wilson       98.0   193.0   \n",
       "4            1970          2490           14          Head       95.0   188.0   \n",
       "\n",
       "    age  \n",
       "0  19.0  \n",
       "1  36.0  \n",
       "2  24.0  \n",
       "3  24.0  \n",
       "4  35.0  "
      ]
     },
     "execution_count": 17,
     "metadata": {},
     "output_type": "execute_result"
    }
   ],
   "source": [
    "df.head()"
   ]
  },
  {
   "cell_type": "markdown",
   "id": "8cfcbf70",
   "metadata": {},
   "source": [
    "Just to see what our data looks like, the above is the first 5 rows of our dataset. However, there is an issue. The head_size, height, and age columns are in float values, not integer values as we wanted. Before converting those values however, we will check if any of the columns have a NaN values, which we do not want in our dataset."
   ]
  },
  {
   "cell_type": "code",
   "execution_count": 18,
   "id": "39e1618d",
   "metadata": {},
   "outputs": [
    {
     "name": "stdout",
     "output_type": "stream",
     "text": [
      "False\n",
      "False\n",
      "False\n",
      "False\n",
      "False\n",
      "False\n",
      "False\n",
      "False\n",
      "False\n",
      "False\n",
      "False\n",
      "False\n"
     ]
    }
   ],
   "source": [
    "#Checking if any columns have NaN or not\n",
    "for column in list(df.columns):\n",
    "    if df[column].isnull().values.any():\n",
    "        print(\"True\");\n",
    "    else:\n",
    "        print(\"False\");"
   ]
  },
  {
   "cell_type": "markdown",
   "id": "db98399e",
   "metadata": {},
   "source": [
    "We did not see NaN values, so we will convert the 3 columns with float values to integer values."
   ]
  },
  {
   "cell_type": "code",
   "execution_count": 20,
   "id": "1ad67073",
   "metadata": {},
   "outputs": [],
   "source": [
    "#Converting the 3 columns from float to integer values\n",
    "columns = {\"head_size\", \"height\", \"age\"}\n",
    "for column in columns:\n",
    "    df[column] = df[column].astype(int)"
   ]
  },
  {
   "cell_type": "code",
   "execution_count": 21,
   "id": "abbc4550",
   "metadata": {},
   "outputs": [
    {
     "data": {
      "text/html": [
       "<div>\n",
       "<style scoped>\n",
       "    .dataframe tbody tr th:only-of-type {\n",
       "        vertical-align: middle;\n",
       "    }\n",
       "\n",
       "    .dataframe tbody tr th {\n",
       "        vertical-align: top;\n",
       "    }\n",
       "\n",
       "    .dataframe thead th {\n",
       "        text-align: right;\n",
       "    }\n",
       "</style>\n",
       "<table border=\"1\" class=\"dataframe\">\n",
       "  <thead>\n",
       "    <tr style=\"text-align: right;\">\n",
       "      <th></th>\n",
       "      <th>rank</th>\n",
       "      <th>player</th>\n",
       "      <th>country</th>\n",
       "      <th>total_points</th>\n",
       "      <th>grand_slam_points</th>\n",
       "      <th>masters_points</th>\n",
       "      <th>other_points</th>\n",
       "      <th>tournaments</th>\n",
       "      <th>racquet_brand</th>\n",
       "      <th>head_size</th>\n",
       "      <th>height</th>\n",
       "      <th>age</th>\n",
       "    </tr>\n",
       "  </thead>\n",
       "  <tbody>\n",
       "    <tr>\n",
       "      <th>0</th>\n",
       "      <td>1</td>\n",
       "      <td>Alcaraz, Carlos</td>\n",
       "      <td>ESP</td>\n",
       "      <td>6820</td>\n",
       "      <td>2450</td>\n",
       "      <td>2740</td>\n",
       "      <td>1630</td>\n",
       "      <td>17</td>\n",
       "      <td>Babolat</td>\n",
       "      <td>98</td>\n",
       "      <td>183</td>\n",
       "      <td>19</td>\n",
       "    </tr>\n",
       "    <tr>\n",
       "      <th>1</th>\n",
       "      <td>2</td>\n",
       "      <td>Nadal, Rafael</td>\n",
       "      <td>ESP</td>\n",
       "      <td>6020</td>\n",
       "      <td>4180</td>\n",
       "      <td>890</td>\n",
       "      <td>950</td>\n",
       "      <td>14</td>\n",
       "      <td>Babolat</td>\n",
       "      <td>100</td>\n",
       "      <td>185</td>\n",
       "      <td>36</td>\n",
       "    </tr>\n",
       "    <tr>\n",
       "      <th>2</th>\n",
       "      <td>3</td>\n",
       "      <td>Ruud, Casper</td>\n",
       "      <td>NOR</td>\n",
       "      <td>5820</td>\n",
       "      <td>2400</td>\n",
       "      <td>1565</td>\n",
       "      <td>1855</td>\n",
       "      <td>23</td>\n",
       "      <td>Yonex</td>\n",
       "      <td>100</td>\n",
       "      <td>183</td>\n",
       "      <td>24</td>\n",
       "    </tr>\n",
       "    <tr>\n",
       "      <th>3</th>\n",
       "      <td>4</td>\n",
       "      <td>Tsitsipas, Stefanos</td>\n",
       "      <td>GRE</td>\n",
       "      <td>5550</td>\n",
       "      <td>910</td>\n",
       "      <td>3065</td>\n",
       "      <td>1575</td>\n",
       "      <td>23</td>\n",
       "      <td>Wilson</td>\n",
       "      <td>98</td>\n",
       "      <td>193</td>\n",
       "      <td>24</td>\n",
       "    </tr>\n",
       "    <tr>\n",
       "      <th>4</th>\n",
       "      <td>5</td>\n",
       "      <td>Djokovic, Novak</td>\n",
       "      <td>SRB</td>\n",
       "      <td>4820</td>\n",
       "      <td>360</td>\n",
       "      <td>1970</td>\n",
       "      <td>2490</td>\n",
       "      <td>14</td>\n",
       "      <td>Head</td>\n",
       "      <td>95</td>\n",
       "      <td>188</td>\n",
       "      <td>35</td>\n",
       "    </tr>\n",
       "  </tbody>\n",
       "</table>\n",
       "</div>"
      ],
      "text/plain": [
       "   rank               player country  total_points  grand_slam_points  \\\n",
       "0     1      Alcaraz, Carlos     ESP          6820               2450   \n",
       "1     2        Nadal, Rafael     ESP          6020               4180   \n",
       "2     3         Ruud, Casper     NOR          5820               2400   \n",
       "3     4  Tsitsipas, Stefanos     GRE          5550                910   \n",
       "4     5      Djokovic, Novak     SRB          4820                360   \n",
       "\n",
       "   masters_points  other_points  tournaments racquet_brand  head_size  height  \\\n",
       "0            2740          1630           17       Babolat         98     183   \n",
       "1             890           950           14       Babolat        100     185   \n",
       "2            1565          1855           23         Yonex        100     183   \n",
       "3            3065          1575           23        Wilson         98     193   \n",
       "4            1970          2490           14          Head         95     188   \n",
       "\n",
       "   age  \n",
       "0   19  \n",
       "1   36  \n",
       "2   24  \n",
       "3   24  \n",
       "4   35  "
      ]
     },
     "execution_count": 21,
     "metadata": {},
     "output_type": "execute_result"
    }
   ],
   "source": [
    "df.head()"
   ]
  },
  {
   "cell_type": "markdown",
   "id": "c4dba6d6",
   "metadata": {},
   "source": [
    "As we can see, we were able to remove the \".0\" values from all the columns. Now, we are ready to make some data analysis."
   ]
  },
  {
   "cell_type": "markdown",
   "id": "284f93b8",
   "metadata": {},
   "source": [
    "## Part 1: Analysis by Country"
   ]
  },
  {
   "cell_type": "markdown",
   "id": "1c68e7a5",
   "metadata": {},
   "source": [
    "In this part, we will conduct an analysis by seeing which countries and continents have the most Top 100 Players.\n",
    "\n",
    "We will first start off with the countries, which is what I am very curious about. I want to find how many different countries are represented in the Top 100 players."
   ]
  },
  {
   "cell_type": "code",
   "execution_count": 22,
   "id": "9267ccd0",
   "metadata": {},
   "outputs": [
    {
     "data": {
      "text/plain": [
       "35"
      ]
     },
     "metadata": {},
     "output_type": "display_data"
    }
   ],
   "source": [
    "df_by_country = df.groupby(\"country\").count()[\"rank\"].reset_index()\n",
    "df_by_country = df_by_country.rename(columns={\"rank\":\"count\"})\n",
    "display(len(df_by_country))"
   ]
  },
  {
   "cell_type": "markdown",
   "id": "0480d40b",
   "metadata": {},
   "source": [
    "It is very surprising that there are 35 different countries represented in Top 100 players. This means that the player demographics is pretty diverse! Now, I want to find out the Top 5 most common countries in the Top 100 Players."
   ]
  },
  {
   "cell_type": "code",
   "execution_count": 23,
   "id": "57c82e96",
   "metadata": {},
   "outputs": [
    {
     "data": {
      "text/html": [
       "<div>\n",
       "<style scoped>\n",
       "    .dataframe tbody tr th:only-of-type {\n",
       "        vertical-align: middle;\n",
       "    }\n",
       "\n",
       "    .dataframe tbody tr th {\n",
       "        vertical-align: top;\n",
       "    }\n",
       "\n",
       "    .dataframe thead th {\n",
       "        text-align: right;\n",
       "    }\n",
       "</style>\n",
       "<table border=\"1\" class=\"dataframe\">\n",
       "  <thead>\n",
       "    <tr style=\"text-align: right;\">\n",
       "      <th></th>\n",
       "      <th>country</th>\n",
       "      <th>count</th>\n",
       "    </tr>\n",
       "  </thead>\n",
       "  <tbody>\n",
       "    <tr>\n",
       "      <th>34</th>\n",
       "      <td>USA</td>\n",
       "      <td>13</td>\n",
       "    </tr>\n",
       "    <tr>\n",
       "      <th>12</th>\n",
       "      <td>ESP</td>\n",
       "      <td>10</td>\n",
       "    </tr>\n",
       "    <tr>\n",
       "      <th>14</th>\n",
       "      <td>FRA</td>\n",
       "      <td>10</td>\n",
       "    </tr>\n",
       "    <tr>\n",
       "      <th>0</th>\n",
       "      <td>ARG</td>\n",
       "      <td>7</td>\n",
       "    </tr>\n",
       "    <tr>\n",
       "      <th>29</th>\n",
       "      <td>SRB</td>\n",
       "      <td>5</td>\n",
       "    </tr>\n",
       "  </tbody>\n",
       "</table>\n",
       "</div>"
      ],
      "text/plain": [
       "   country  count\n",
       "34     USA     13\n",
       "12     ESP     10\n",
       "14     FRA     10\n",
       "0      ARG      7\n",
       "29     SRB      5"
      ]
     },
     "execution_count": 23,
     "metadata": {},
     "output_type": "execute_result"
    }
   ],
   "source": [
    "df_by_country.sort_values(\"count\", ascending=False)[0:5]"
   ]
  },
  {
   "cell_type": "markdown",
   "id": "37790a31",
   "metadata": {},
   "source": [
    "It seems that USA has the most players in the Top 100 rankings with 13 players, followed by Spain and France with 10 each, Argentina with 7, and Serbia with 5. I am a little surprised that it was USA that had the most players in the Top 100, as I had an image that it would be Spain. It is nice to see that USA Tennis is becoming stronger in recent years, as it seemed to be only Andy Roddick and Andre Agassi in the early 2000s, and then John Isner in the 2010s holding the torch for USA Tennis. However, Spain and France are not too far as well.\n",
    "\n",
    "Now, let's see the distribution of players by the continents. We will first group the countries represented in the Top 100 to their respective continent. \n",
    "\n",
    "Note: This will be done manually as ATP Website does not use the ISO 3166-1 alpha-3 convention for their 3 letter country codes."
   ]
  },
  {
   "cell_type": "code",
   "execution_count": 24,
   "id": "0c9784a5",
   "metadata": {},
   "outputs": [
    {
     "data": {
      "text/plain": [
       "35"
      ]
     },
     "execution_count": 24,
     "metadata": {},
     "output_type": "execute_result"
    }
   ],
   "source": [
    "#I am an avid ATP watcher, so I know which countries are in which continents! (I did check, so no worries)\n",
    "north_america = [\"USA\", \"CAN\"]\n",
    "south_america = [\"ARG\", \"CHI\", \"BRA\", \"COL\"]\n",
    "australia = [\"AUS\"]\n",
    "europe = [\"ESP\", \"FRA\", \"SRB\", \"RUS\", \"ITA\", \"GBR\", \"GER\", \"POR\", \"CZE\", \"NED\", \"CRO\", \"POL\", \"BUL\", \"HUN\", \"GRE\", \"BLR\", \"SWE\", \"SUI\", \"BEL\", \"SVK\", \"DEN\", \"FIN\", \"KAZ\", \"NOR\", \"GEO\"]\n",
    "asia = [\"JPN\", \"TPE\", \"KOR\"]\n",
    "\n",
    "#Checking if the number of countries is correct. Should be 35.\n",
    "total = 0\n",
    "for continent in [north_america, south_america, australia, europe, asia]:\n",
    "    total += len(continent)\n",
    "\n",
    "total"
   ]
  },
  {
   "cell_type": "code",
   "execution_count": 25,
   "id": "1d28d1c0",
   "metadata": {},
   "outputs": [],
   "source": [
    "#Here, we are making a new column in the dataframe called continent and setting each player's respective continent.\n",
    "continent_list = []\n",
    "for country in df[\"country\"]:\n",
    "    if country in north_america:\n",
    "        continent_list.append(\"NA\")\n",
    "    elif country in south_america:\n",
    "        continent_list.append(\"SA\")\n",
    "    elif country in australia:\n",
    "        continent_list.append(\"AUS\")\n",
    "    elif country in europe:\n",
    "        continent_list.append(\"EUR\")\n",
    "    elif country in asia:\n",
    "        continent_list.append(\"ASIA\")\n",
    "        \n",
    "df[\"continent\"] = continent_list"
   ]
  },
  {
   "cell_type": "code",
   "execution_count": 26,
   "id": "f77ea7b9",
   "metadata": {},
   "outputs": [
    {
     "data": {
      "image/png": "[encoded data removed]",
      "text/plain": [
       "<Figure size 640x480 with 1 Axes>"
      ]
     },
     "metadata": {},
     "output_type": "display_data"
    }
   ],
   "source": [
    "df_by_continent = df.groupby(\"continent\").count()[\"rank\"].reset_index()\n",
    "df_by_continent = df_by_continent.rename(columns={\"rank\":\"count\"}).sort_values(\"count\", ascending=False)\n",
    "\n",
    "#Visualizing using a bar graph.\n",
    "sns.barplot(data=df_by_continent, x=\"continent\", y=\"count\")\n",
    "plt.title(\"Continent Distribution of Top 100 ATP Singles Players\")\n",
    "plt.xlabel(\"Continents\")\n",
    "plt.ylabel(\"Count\");"
   ]
  },
  {
   "cell_type": "markdown",
   "id": "a83eac3a",
   "metadata": {},
   "source": [
    "From the bar graph above, we can see that the most common players are Europeans, with about 65 players in the Top 100. Not only is that over 3/5 of the players in the Top 100, but about 4 times more than the next common players, which are from North America, which had about 16 players. We can see that South America, Australia, then Asia trails, in that order. \n",
    "\n",
    "This is likely due to the fact that the tennis population in Europe is the largest in the world, and likely due to the fact that there are many more countries in Europe compared to other countries, which means that there are more professional players that are likely to be from Europe. Tennis population in the rest of the continents are not high as Europe however, they are rapidly increasing (like in North America, or USA specifically), which we can hopefully expect greater number of those players in the Top 100 in the near future. "
   ]
  },
  {
   "cell_type": "markdown",
   "id": "b2626a33",
   "metadata": {},
   "source": [
    "## Part 2: Points"
   ]
  },
  {
   "cell_type": "markdown",
   "id": "5c8b5bef",
   "metadata": {},
   "source": [
    "In this part, we will conduct an analysis of the point distributions of the players from their total points.\n",
    "\n",
    "In order to conduct this analysis, we will use a ratio that I have made called \"High-Point Ratio\". This ratio is calculated by dividing the points earned from Grand Slam Tournaments, which the winner can earn up to 2000 points, and Masters 1000 Tournaments, where the winner can earn 1000 points, and divided by their total points they have. \n",
    "\n",
    "For some refresher, \n",
    "Other Points consists of points earned from ATP 500 (Winner Gets 500 Points), ATP 250 (Winner gets 250 points), Challengers (Winners get 50-125 points depending on tournament), and ITF Futures Tournaments (Winner gets 15 or 25 points depending on tournament).\n",
    "\n",
    "This is the formula:\n",
    "\n",
    "$\\Large\\frac{(\\text{Grand Slam Points + Masters 1000 Points})}{(\\text{Grand Slam Points + Masters 1000 Points + Other Points})}$\n",
    "\n",
    "I will also be grouping the players into groups of 10 to make the analysis a little easier to do.\n",
    "\n",
    "Note: \"Other Points\" include the Nitto ATP Finals Points, but we will ignore that fact to make the analysis a little easier."
   ]
  },
  {
   "cell_type": "code",
   "execution_count": 27,
   "id": "9b7bab3a",
   "metadata": {},
   "outputs": [],
   "source": [
    "#Calculating the \"High-Point Ratio\"\n",
    "def high_point_ratio(dataframe):\n",
    "    high_points = dataframe[\"grand_slam_points\"] + dataframe[\"masters_points\"]\n",
    "    total_points = high_points + dataframe[\"other_points\"]\n",
    "    dataframe[\"hp_ratio\"] = high_points / total_points\n",
    "    return dataframe\n",
    "\n",
    "df = high_point_ratio(df)"
   ]
  },
  {
   "cell_type": "code",
   "execution_count": 28,
   "id": "7b4558e2",
   "metadata": {},
   "outputs": [
    {
     "data": {
      "image/png": "[encoded data removed]",
      "text/plain": [
       "<Figure size 640x480 with 1 Axes>"
      ]
     },
     "metadata": {},
     "output_type": "display_data"
    }
   ],
   "source": [
    "#Grouping each 10 players and averaging the \"High-Point Ratio\"\n",
    "average_hp_ratio_grouped = []\n",
    "for i in range(10,110,10):\n",
    "    averages = np.mean(df[i-10:i][\"hp_ratio\"])\n",
    "    average_hp_ratio_grouped.append(averages)\n",
    "\n",
    "#Made a dataframe after grouping the players and averaginng their ratios\n",
    "hp_ratio_df = pd.DataFrame({\"rank\": [\"1-10\", \"11-20\", \"21-30\", \"31-40\", \"41-50\", \"51-60\", \"61-70\", \"71-80\", \"81-90\", \"91-100\"], \"hp_ratio\": average_hp_ratio_grouped})\n",
    "sns.barplot(data=hp_ratio_df, x=\"rank\", y=\"hp_ratio\")\n",
    "plt.title(\"Average High Point Ratio for Grouped Top 100 ATP Players\")\n",
    "plt.xlabel(\"Ranks in Groups of 10\")\n",
    "plt.xlabel(\"hp_ratio\");"
   ]
  },
  {
   "cell_type": "markdown",
   "id": "517beef9",
   "metadata": {},
   "source": [
    "From the bar graph above, we see a pattern that the \"High-Point Ratio\" is higher for players that are in the higher ranks, specifically in the Top 1-20 players, with the ratio around 0.6. We do see that Players ranked 11-20 have a slightly higher ratio than players ranked 1-10, but this could be due to some fact that Novak Djokovic was not able to compete in the Australian Open, US Open, and other North American Masters tournaments which required a vaccination mandate, which made the points in the Grand Slam and Masters 1000 Tournament Points in total lower than the the other tournaments, which may have slightly lowered the average. But overall, we can see that there is a trend as players ranking fall, their \"High-Point Ratio\" has decreases, which means that if players want to raise their rankings, the best way to do that is to win and get deeper into the Grand Slam and Masters 1000 Tournaments, which grants them more points. This is especially valuable data for players from rankings gtom 61-100, where their Grand Slam and Masters 1000 Tournament Points only consists of around 25% or less of their total points they have."
   ]
  },
  {
   "cell_type": "markdown",
   "id": "e7882590",
   "metadata": {},
   "source": [
    "## Part 3: Tournaments"
   ]
  },
  {
   "cell_type": "markdown",
   "id": "ebdccc80",
   "metadata": {},
   "source": [
    "In this part, we will conduct an analysis of how many tournaments the players in the Top 100 ATP rankings have played in, and hopefully see some interesting patterns. Just as previous part, we will be grouping the players into groups of 10 to make the analysis easier."
   ]
  },
  {
   "cell_type": "code",
   "execution_count": 29,
   "id": "9284feaf",
   "metadata": {},
   "outputs": [
    {
     "data": {
      "image/png": "[encoded data removed]",
      "text/plain": [
       "<Figure size 640x480 with 1 Axes>"
      ]
     },
     "metadata": {},
     "output_type": "display_data"
    }
   ],
   "source": [
    "#Grouping each 10 players and averaging the number of tournaments they have played in.\n",
    "average_tournaments_grouped = []\n",
    "for i in range(10,110,10):\n",
    "    averages = np.mean(df[i-10:i][\"tournaments\"])\n",
    "    average_tournaments_grouped.append(averages)\n",
    "\n",
    "#Made a dataframe after grouping the players and averaginng their ratios\n",
    "tournaments_df = pd.DataFrame({\"rank\": [\"1-10\", \"11-20\", \"21-30\", \"31-40\", \"41-50\", \"51-60\", \"61-70\", \"71-80\", \"81-90\", \"91-100\"], \"tournaments\": average_tournaments_grouped})\n",
    "sns.barplot(data=tournaments_df, x=\"rank\", y=\"tournaments\")\n",
    "plt.title(\"Average Number of Tournaments for Grouped Top 100 ATP Players\")\n",
    "plt.xlabel(\"Ranks in Groups of 10\")\n",
    "plt.xlabel(\"Number of Touraments\");"
   ]
  },
  {
   "cell_type": "markdown",
   "id": "b6c506d9",
   "metadata": {},
   "source": [
    "From the bar graph above, we do not see a very significant difference of number of tournaments played for each groups of rankings. We do see that Players ranked 1-10 have the lowest number of tournaments played (of 20) however, it is not much far off from others. We do see though that players in between ranks 31-80 play more tournaments in average, likely in the hopes to make deeper runs in more tournaments in order to earn points and stabilize their rankings. From my knowledge however, I am aware that players start to compete in less tournaments as they get older as \"load management\" (maybe you have heard this term in the NBA as well)."
   ]
  },
  {
   "cell_type": "markdown",
   "id": "37389ae3",
   "metadata": {},
   "source": [
    "## Part 4: Age"
   ]
  },
  {
   "cell_type": "markdown",
   "id": "cbaa63be",
   "metadata": {},
   "source": [
    "In this part, we will be conducting an analysis of the distributions of the age in the Top 100 ATP Players.\n",
    "\n",
    "First, we will look at the average age of the Top 100 Players, then we will look more into the distributions of ages."
   ]
  },
  {
   "cell_type": "code",
   "execution_count": 30,
   "id": "f70b1414",
   "metadata": {},
   "outputs": [
    {
     "data": {
      "text/plain": [
       "26.9"
      ]
     },
     "execution_count": 30,
     "metadata": {},
     "output_type": "execute_result"
    }
   ],
   "source": [
    "df_age = df[\"age\"]\n",
    "\n",
    "#Average Age\n",
    "np.mean(df_age)"
   ]
  },
  {
   "cell_type": "markdown",
   "id": "ad7ad78d",
   "metadata": {},
   "source": [
    "I am surprised that the average age for the Top 100 ATP Players is 26.9 (nearly 27!). I was expecting the ages to be a little higher as the sport of tennis changed over the last 30 years as well as the medical and technological advances which leads to the longevity of the careers of these players. Therefore, the average age would be a little higher. This is also probably because since I was following the ATP Tour for a long time and know many of the players how has been in the Top 100 for many many years, which may have lead me to think of that way. However, I am aware that younger players (called \"Next-Gen\") like Carlos Alcaraz and Felix Auger-Aliassime are making huge strides on the tour as well.\n",
    "\n",
    "I am also curious about the average age in the Top 10. The calculation will be done below."
   ]
  },
  {
   "cell_type": "code",
   "execution_count": 31,
   "id": "44f55c7c",
   "metadata": {},
   "outputs": [
    {
     "data": {
      "text/plain": [
       "26.3"
      ]
     },
     "execution_count": 31,
     "metadata": {},
     "output_type": "execute_result"
    }
   ],
   "source": [
    "#Top 10 average age\n",
    "np.mean(df[\"age\"][:10])"
   ]
  },
  {
   "cell_type": "markdown",
   "id": "a26e7a61",
   "metadata": {},
   "source": [
    "I am quite surprised about the lower average again, as we know some of the Top Players such as Novak Djokovic (35) and Rafael Nadal (36) are still in the Top 10. However, with Roger Federer, Andy Murray, and Stan Wawrinka not being in the Top 10 or retired has given the next generation of young talented players to climb into the Top 10, which has driven the avearge age in the Top 10 down.\n",
    "\n",
    "Let's also see who is the youngest and the oldest player in the Top 100, and their ages."
   ]
  },
  {
   "cell_type": "code",
   "execution_count": 32,
   "id": "3e61f8fe",
   "metadata": {},
   "outputs": [
    {
     "data": {
      "text/html": [
       "<div>\n",
       "<style scoped>\n",
       "    .dataframe tbody tr th:only-of-type {\n",
       "        vertical-align: middle;\n",
       "    }\n",
       "\n",
       "    .dataframe tbody tr th {\n",
       "        vertical-align: top;\n",
       "    }\n",
       "\n",
       "    .dataframe thead th {\n",
       "        text-align: right;\n",
       "    }\n",
       "</style>\n",
       "<table border=\"1\" class=\"dataframe\">\n",
       "  <thead>\n",
       "    <tr style=\"text-align: right;\">\n",
       "      <th></th>\n",
       "      <th>rank</th>\n",
       "      <th>player</th>\n",
       "      <th>country</th>\n",
       "      <th>total_points</th>\n",
       "      <th>grand_slam_points</th>\n",
       "      <th>masters_points</th>\n",
       "      <th>other_points</th>\n",
       "      <th>tournaments</th>\n",
       "      <th>racquet_brand</th>\n",
       "      <th>head_size</th>\n",
       "      <th>height</th>\n",
       "      <th>age</th>\n",
       "      <th>continent</th>\n",
       "      <th>hp_ratio</th>\n",
       "    </tr>\n",
       "  </thead>\n",
       "  <tbody>\n",
       "    <tr>\n",
       "      <th>0</th>\n",
       "      <td>1</td>\n",
       "      <td>Alcaraz, Carlos</td>\n",
       "      <td>ESP</td>\n",
       "      <td>6820</td>\n",
       "      <td>2450</td>\n",
       "      <td>2740</td>\n",
       "      <td>1630</td>\n",
       "      <td>17</td>\n",
       "      <td>Babolat</td>\n",
       "      <td>98</td>\n",
       "      <td>183</td>\n",
       "      <td>19</td>\n",
       "      <td>EUR</td>\n",
       "      <td>0.760997</td>\n",
       "    </tr>\n",
       "    <tr>\n",
       "      <th>10</th>\n",
       "      <td>11</td>\n",
       "      <td>Rune, Holger</td>\n",
       "      <td>DEN</td>\n",
       "      <td>2888</td>\n",
       "      <td>460</td>\n",
       "      <td>1166</td>\n",
       "      <td>1262</td>\n",
       "      <td>27</td>\n",
       "      <td>Babolat</td>\n",
       "      <td>98</td>\n",
       "      <td>188</td>\n",
       "      <td>19</td>\n",
       "      <td>EUR</td>\n",
       "      <td>0.563019</td>\n",
       "    </tr>\n",
       "  </tbody>\n",
       "</table>\n",
       "</div>"
      ],
      "text/plain": [
       "    rank           player country  total_points  grand_slam_points  \\\n",
       "0      1  Alcaraz, Carlos     ESP          6820               2450   \n",
       "10    11     Rune, Holger     DEN          2888                460   \n",
       "\n",
       "    masters_points  other_points  tournaments racquet_brand  head_size  \\\n",
       "0             2740          1630           17       Babolat         98   \n",
       "10            1166          1262           27       Babolat         98   \n",
       "\n",
       "    height  age continent  hp_ratio  \n",
       "0      183   19       EUR  0.760997  \n",
       "10     188   19       EUR  0.563019  "
      ]
     },
     "execution_count": 32,
     "metadata": {},
     "output_type": "execute_result"
    }
   ],
   "source": [
    "df[df[\"age\"] == min(df_age)]"
   ]
  },
  {
   "cell_type": "markdown",
   "id": "c3cf1e5f",
   "metadata": {},
   "source": [
    "It is crazy to see that 19 year olds in the Top 100, and adding onto it, both in the Top 10, and one of them being Number 1 in the world! When I was 19, I was (and still am) in college. It's crazy to see the different routes people take in their lives.\n",
    "\n",
    "Let's see who the oldest player in the Top 100 is."
   ]
  },
  {
   "cell_type": "code",
   "execution_count": 33,
   "id": "0ea91405",
   "metadata": {},
   "outputs": [
    {
     "data": {
      "text/html": [
       "<div>\n",
       "<style scoped>\n",
       "    .dataframe tbody tr th:only-of-type {\n",
       "        vertical-align: middle;\n",
       "    }\n",
       "\n",
       "    .dataframe tbody tr th {\n",
       "        vertical-align: top;\n",
       "    }\n",
       "\n",
       "    .dataframe thead th {\n",
       "        text-align: right;\n",
       "    }\n",
       "</style>\n",
       "<table border=\"1\" class=\"dataframe\">\n",
       "  <thead>\n",
       "    <tr style=\"text-align: right;\">\n",
       "      <th></th>\n",
       "      <th>rank</th>\n",
       "      <th>player</th>\n",
       "      <th>country</th>\n",
       "      <th>total_points</th>\n",
       "      <th>grand_slam_points</th>\n",
       "      <th>masters_points</th>\n",
       "      <th>other_points</th>\n",
       "      <th>tournaments</th>\n",
       "      <th>racquet_brand</th>\n",
       "      <th>head_size</th>\n",
       "      <th>height</th>\n",
       "      <th>age</th>\n",
       "      <th>continent</th>\n",
       "      <th>hp_ratio</th>\n",
       "    </tr>\n",
       "  </thead>\n",
       "  <tbody>\n",
       "    <tr>\n",
       "      <th>40</th>\n",
       "      <td>41</td>\n",
       "      <td>Isner, John</td>\n",
       "      <td>USA</td>\n",
       "      <td>1005</td>\n",
       "      <td>145</td>\n",
       "      <td>415</td>\n",
       "      <td>445</td>\n",
       "      <td>19</td>\n",
       "      <td>Prince</td>\n",
       "      <td>100</td>\n",
       "      <td>208</td>\n",
       "      <td>37</td>\n",
       "      <td>NA</td>\n",
       "      <td>0.557214</td>\n",
       "    </tr>\n",
       "  </tbody>\n",
       "</table>\n",
       "</div>"
      ],
      "text/plain": [
       "    rank       player country  total_points  grand_slam_points  \\\n",
       "40    41  Isner, John     USA          1005                145   \n",
       "\n",
       "    masters_points  other_points  tournaments racquet_brand  head_size  \\\n",
       "40             415           445           19        Prince        100   \n",
       "\n",
       "    height  age continent  hp_ratio  \n",
       "40     208   37        NA  0.557214  "
      ]
     },
     "execution_count": 33,
     "metadata": {},
     "output_type": "execute_result"
    }
   ],
   "source": [
    "df[df[\"age\"] == max(df_age)]"
   ]
  },
  {
   "cell_type": "markdown",
   "id": "276b190e",
   "metadata": {},
   "source": [
    "It's John Isner that is the oldest in the Top 100, being age 37. Being able to play tennis at such a high level at 37 is crazy, especially for a person his size. This may be due to the fact he can hit many aces, which allows him to keep his service games comfortably and be aggressive on the return games.\n",
    "\n",
    "Now, we will look at the distribution of the ages in the Top 100."
   ]
  },
  {
   "cell_type": "code",
   "execution_count": 34,
   "id": "b4acdc84",
   "metadata": {},
   "outputs": [
    {
     "data": {
      "image/png": "[encoded data removed]",
      "text/plain": [
       "<Figure size 640x480 with 1 Axes>"
      ]
     },
     "metadata": {},
     "output_type": "display_data"
    }
   ],
   "source": [
    "sns.histplot(data=df, x=\"age\").set_xlim(19,37)\n",
    "plt.title(\"Distribution of Ages in the Top 100 ATP Players\")\n",
    "plt.xlabel(\"age\")\n",
    "plt.ylabel(\"count\");"
   ]
  },
  {
   "cell_type": "markdown",
   "id": "d07c6c5e",
   "metadata": {},
   "source": [
    "From the histogram above, we can see that most players in the Top 100 are between ages 26-28 with around 23 players, and 24-26 coming in close second with around 21 players, and 28-30 coming in third with around 15 players. This seems to be pretty reasonable, as it is said that athletes tend to be in their best form, or in sports term in their \"prime\", around the age of 27 (though I did expect a little more older players as said before). Thus, the most common age and the trailing seems to make perfect sense. What I found surprising was there are more players between 35 and 37 compared to 32 and 34. I would believe that the the distribution would have a very uniform distribution (which it is very close to), where there would not be too many young players, then slowly increase around age of 27, then slowly decrease without any increase as they get into their late 30s. It is cool and interesting to see that older players, especially in this case 35-37 year olds still striving and playing at a high level in the ATP Tour."
   ]
  },
  {
   "cell_type": "markdown",
   "id": "d378fbca",
   "metadata": {},
   "source": [
    "## Part 5: Height"
   ]
  },
  {
   "cell_type": "markdown",
   "id": "19859fa1",
   "metadata": {},
   "source": [
    "In this part, we will conduct an analysis of the heights of the Top 100 ATP Players. This is definitely one of the parts of this data analysis that I am curious about, as many people say \"height is important\" in sports, and the same applies to tennis. We will conduct something similar as the previous part; find the average, shortest and tallest height, and distribution of the heights."
   ]
  },
  {
   "cell_type": "code",
   "execution_count": 35,
   "id": "47a510c5",
   "metadata": {},
   "outputs": [
    {
     "data": {
      "text/plain": [
       "187.12"
      ]
     },
     "execution_count": 35,
     "metadata": {},
     "output_type": "execute_result"
    }
   ],
   "source": [
    "df_height = df[\"height\"]\n",
    "\n",
    "#Average Height\n",
    "np.mean(df_height)"
   ]
  },
  {
   "cell_type": "markdown",
   "id": "f674c337",
   "metadata": {},
   "source": [
    "It is surprising to see that the average height for the Top 100 ATP Players is 187.12 centimeters, or about 6 foot 2 inches! This shows that being tall is an important factor if wanting to be in the Top 100. The taller height in tennis gives advantage in serves, as well as the reach for different shots.\n",
    "\n",
    "Let's take a look at the shortest players in the Top 100."
   ]
  },
  {
   "cell_type": "code",
   "execution_count": 36,
   "id": "cf582d7b",
   "metadata": {},
   "outputs": [
    {
     "data": {
      "text/html": [
       "<div>\n",
       "<style scoped>\n",
       "    .dataframe tbody tr th:only-of-type {\n",
       "        vertical-align: middle;\n",
       "    }\n",
       "\n",
       "    .dataframe tbody tr th {\n",
       "        vertical-align: top;\n",
       "    }\n",
       "\n",
       "    .dataframe thead th {\n",
       "        text-align: right;\n",
       "    }\n",
       "</style>\n",
       "<table border=\"1\" class=\"dataframe\">\n",
       "  <thead>\n",
       "    <tr style=\"text-align: right;\">\n",
       "      <th></th>\n",
       "      <th>rank</th>\n",
       "      <th>player</th>\n",
       "      <th>country</th>\n",
       "      <th>total_points</th>\n",
       "      <th>grand_slam_points</th>\n",
       "      <th>masters_points</th>\n",
       "      <th>other_points</th>\n",
       "      <th>tournaments</th>\n",
       "      <th>racquet_brand</th>\n",
       "      <th>head_size</th>\n",
       "      <th>height</th>\n",
       "      <th>age</th>\n",
       "      <th>continent</th>\n",
       "      <th>hp_ratio</th>\n",
       "    </tr>\n",
       "  </thead>\n",
       "  <tbody>\n",
       "    <tr>\n",
       "      <th>24</th>\n",
       "      <td>25</td>\n",
       "      <td>Schwartzman, Diego</td>\n",
       "      <td>ARG</td>\n",
       "      <td>1700</td>\n",
       "      <td>315</td>\n",
       "      <td>470</td>\n",
       "      <td>915</td>\n",
       "      <td>23</td>\n",
       "      <td>Head</td>\n",
       "      <td>98</td>\n",
       "      <td>170</td>\n",
       "      <td>30</td>\n",
       "      <td>SA</td>\n",
       "      <td>0.461765</td>\n",
       "    </tr>\n",
       "    <tr>\n",
       "      <th>35</th>\n",
       "      <td>36</td>\n",
       "      <td>Nishioka, Yoshihito</td>\n",
       "      <td>JPN</td>\n",
       "      <td>1134</td>\n",
       "      <td>30</td>\n",
       "      <td>151</td>\n",
       "      <td>953</td>\n",
       "      <td>23</td>\n",
       "      <td>Yonex</td>\n",
       "      <td>98</td>\n",
       "      <td>170</td>\n",
       "      <td>27</td>\n",
       "      <td>ASIA</td>\n",
       "      <td>0.159612</td>\n",
       "    </tr>\n",
       "    <tr>\n",
       "      <th>42</th>\n",
       "      <td>43</td>\n",
       "      <td>Baez, Sebastian</td>\n",
       "      <td>ARG</td>\n",
       "      <td>987</td>\n",
       "      <td>100</td>\n",
       "      <td>155</td>\n",
       "      <td>732</td>\n",
       "      <td>28</td>\n",
       "      <td>Yonex</td>\n",
       "      <td>98</td>\n",
       "      <td>170</td>\n",
       "      <td>22</td>\n",
       "      <td>SA</td>\n",
       "      <td>0.258359</td>\n",
       "    </tr>\n",
       "  </tbody>\n",
       "</table>\n",
       "</div>"
      ],
      "text/plain": [
       "    rank               player country  total_points  grand_slam_points  \\\n",
       "24    25   Schwartzman, Diego     ARG          1700                315   \n",
       "35    36  Nishioka, Yoshihito     JPN          1134                 30   \n",
       "42    43      Baez, Sebastian     ARG           987                100   \n",
       "\n",
       "    masters_points  other_points  tournaments racquet_brand  head_size  \\\n",
       "24             470           915           23          Head         98   \n",
       "35             151           953           23         Yonex         98   \n",
       "42             155           732           28         Yonex         98   \n",
       "\n",
       "    height  age continent  hp_ratio  \n",
       "24     170   30        SA  0.461765  \n",
       "35     170   27      ASIA  0.159612  \n",
       "42     170   22        SA  0.258359  "
      ]
     },
     "execution_count": 36,
     "metadata": {},
     "output_type": "execute_result"
    }
   ],
   "source": [
    "df[df[\"height\"] == min(df_height)]"
   ]
  },
  {
   "cell_type": "markdown",
   "id": "0412b34e",
   "metadata": {},
   "source": [
    "The shortest players in the Top 100 are 170 centimeters (5 foot 7 inches), and there are 3 players with that height. Those being Diego Schwartzman, Yoshihito Nishioka, and Sebastian Baez. It is incredible to see that though their height is much less than the average, they are still very successful in the tour, all being in the Top 50. Something interesting to see is that 2 out of the 3 players above are from South America, and both from Argentina as well.\n",
    "\n",
    "Let's now take a look at the tallest Top 100 ATP Player."
   ]
  },
  {
   "cell_type": "code",
   "execution_count": 37,
   "id": "54d56399",
   "metadata": {},
   "outputs": [
    {
     "data": {
      "text/html": [
       "<div>\n",
       "<style scoped>\n",
       "    .dataframe tbody tr th:only-of-type {\n",
       "        vertical-align: middle;\n",
       "    }\n",
       "\n",
       "    .dataframe tbody tr th {\n",
       "        vertical-align: top;\n",
       "    }\n",
       "\n",
       "    .dataframe thead th {\n",
       "        text-align: right;\n",
       "    }\n",
       "</style>\n",
       "<table border=\"1\" class=\"dataframe\">\n",
       "  <thead>\n",
       "    <tr style=\"text-align: right;\">\n",
       "      <th></th>\n",
       "      <th>rank</th>\n",
       "      <th>player</th>\n",
       "      <th>country</th>\n",
       "      <th>total_points</th>\n",
       "      <th>grand_slam_points</th>\n",
       "      <th>masters_points</th>\n",
       "      <th>other_points</th>\n",
       "      <th>tournaments</th>\n",
       "      <th>racquet_brand</th>\n",
       "      <th>head_size</th>\n",
       "      <th>height</th>\n",
       "      <th>age</th>\n",
       "      <th>continent</th>\n",
       "      <th>hp_ratio</th>\n",
       "    </tr>\n",
       "  </thead>\n",
       "  <tbody>\n",
       "    <tr>\n",
       "      <th>37</th>\n",
       "      <td>38</td>\n",
       "      <td>Opelka, Reilly</td>\n",
       "      <td>USA</td>\n",
       "      <td>1095</td>\n",
       "      <td>100</td>\n",
       "      <td>120</td>\n",
       "      <td>875</td>\n",
       "      <td>22</td>\n",
       "      <td>Wilson</td>\n",
       "      <td>95</td>\n",
       "      <td>211</td>\n",
       "      <td>25</td>\n",
       "      <td>NA</td>\n",
       "      <td>0.200913</td>\n",
       "    </tr>\n",
       "  </tbody>\n",
       "</table>\n",
       "</div>"
      ],
      "text/plain": [
       "    rank          player country  total_points  grand_slam_points  \\\n",
       "37    38  Opelka, Reilly     USA          1095                100   \n",
       "\n",
       "    masters_points  other_points  tournaments racquet_brand  head_size  \\\n",
       "37             120           875           22        Wilson         95   \n",
       "\n",
       "    height  age continent  hp_ratio  \n",
       "37     211   25        NA  0.200913  "
      ]
     },
     "execution_count": 37,
     "metadata": {},
     "output_type": "execute_result"
    }
   ],
   "source": [
    "df[df[\"height\"] == max(df_height)]"
   ]
  },
  {
   "cell_type": "markdown",
   "id": "f5a9b2c5",
   "metadata": {},
   "source": [
    "The tallest player at 211 centimeters, or 6 foot 11 inches (nearly 7 feet!) is Reily Opelka from USA. I would imagine an athlete with that height would be in the NBA, but he is playing tennis! I believed John Isner was taller however, he is 208 centimeters, or 6 foot 10 inches, an inch less than Reily. I would be believe that with his height, he would be hitting many aces in the match. However, we can see that Reily is only Rank 37 (this due to the injuries he had in the second half of this season, but his career high is still Number 17), which means that height is not everything in tennis, and being very tall does not necessarily mean that he can be the best of the best players in the world. This is likely due to technique, but most importantly correlated with the height, is that the more taller you are (like Reily, or even John Isner), that harder to have quick movement as your are heavier.\n",
    "\n",
    "Let's now take a look at look at the distribution of the heights in the Top 100 ATP Players."
   ]
  },
  {
   "cell_type": "code",
   "execution_count": 38,
   "id": "dc47f255",
   "metadata": {},
   "outputs": [
    {
     "data": {
      "image/png": "[encoded data removed]",
      "text/plain": [
       "<Figure size 640x480 with 1 Axes>"
      ]
     },
     "metadata": {},
     "output_type": "display_data"
    }
   ],
   "source": [
    "sns.histplot(data=df, x=\"height\")\n",
    "plt.title(\"Distribution of Height of Top 100 ATP Players\")\n",
    "plt.xlabel(\"Height (cm)\")\n",
    "plt.ylabel(\"Count\");"
   ]
  },
  {
   "cell_type": "markdown",
   "id": "6dc298be",
   "metadata": {},
   "source": [
    "We can see from the histogram above, that the most common height in the Top 100 ATP Tour is between 180 and 190 centimeters, approximately around 185cm (a little over 6 foot 1 inches). The next group of common heights comes around 190 centimeters (about 6 foot 3 inches). We see that there are not many people that are shorter and taller than the aformentioned height. But since the bins look a little hard to see the exact heights, let's take a look at it in the form of bar graph below."
   ]
  },
  {
   "cell_type": "code",
   "execution_count": 39,
   "id": "4c6c2688",
   "metadata": {},
   "outputs": [
    {
     "data": {
      "image/png": "[encoded data removed]",
      "text/plain": [
       "<Figure size 640x480 with 1 Axes>"
      ]
     },
     "metadata": {},
     "output_type": "display_data"
    }
   ],
   "source": [
    "heights = df_height.value_counts().reset_index().rename(columns={\"index\":\"height\", \"height\": \"count\"})\n",
    "sns.barplot(data=heights, x=\"height\", y=\"count\").set_yticks([0,5,10,15,20])\n",
    "plt.title(\"Height Distribution of Top 100 ATP Players (Bar Graph)\")\n",
    "plt.xlabel(\"Height (cm)\")\n",
    "plt.ylabel(\"Count\");"
   ]
  },
  {
   "cell_type": "markdown",
   "id": "2c0ef53c",
   "metadata": {},
   "source": [
    "This is much better than previous ones, as it is more accurate. We can see that the most common height of the Top 100 ATP Players is 183 centimeters (6 feet ~ 6 foot 1 inches), followed by 188 centimeters (6 foot 2 inches) and 185 centimeters (a little over 6 foot 1 inches). This means that although height is important to the game of tennis, the heights between 183 centimeters and 188 centimeters (6 feet ~ 6 foot 1 inches to 6 foot 2 inches) are the ideal heights. This does not however, mean taller players are in a disadvantage or necessarily \"bad\", by any means whatsoever. Being tall has its benefits, but being too tall is not always an advantage in other ways we discussed earlier. An interesting finding that I had from this graph however, is that there are more 193 and 196 centimeters (6 foot 4 inches and 6 foot 5 inches respectively) players compared to 191 centimeters (6 foot 3 inches). "
   ]
  },
  {
   "cell_type": "markdown",
   "id": "6f2cbc78",
   "metadata": {},
   "source": [
    "## Part 6: Racquet Brands"
   ]
  },
  {
   "cell_type": "markdown",
   "id": "d5bfad39",
   "metadata": {},
   "source": [
    "In this part, we will be conducting an analysis on what racquet brands are most commonly used in the Top 100 ATP Players. I enjoy discussing about racquets that professional players uses, so this one will be exciting."
   ]
  },
  {
   "cell_type": "code",
   "execution_count": 40,
   "id": "31417f89",
   "metadata": {},
   "outputs": [
    {
     "data": {
      "image/png": "[encoded data removed]",
      "text/plain": [
       "<Figure size 1000x500 with 2 Axes>"
      ]
     },
     "metadata": {},
     "output_type": "display_data"
    }
   ],
   "source": [
    "#Making two plots, a bar graph and a pie chart\n",
    "fig, axes = plt.subplots(1, 2, figsize=(10,5))\n",
    "fig.suptitle(\"Distribution of Racquet Brands of the Top 100 ATP Players\")\n",
    "\n",
    "df_racquets = df[\"racquet_brand\"]\n",
    "racquets = df_racquets.value_counts().reset_index().rename(columns={\"index\":\"Brand\", \"racquet_brand\": \"Count\"})\n",
    "\n",
    "sns.barplot(ax=axes[0], data=racquets, x=\"Brand\", y=\"Count\")\n",
    "axes[0].set_title(\"Bar Graph of the Distribution\")\n",
    "\n",
    "racquets_count = df_racquets.value_counts()\n",
    "brands = racquets_count.index\n",
    "count = racquets_count.values\n",
    "plt.pie(count, labels=brands, autopct='%1.1f%%')\n",
    "axes[1].set_title(\"Pie Chart of the Distribution\");"
   ]
  },
  {
   "cell_type": "markdown",
   "id": "bf8ac3a7",
   "metadata": {},
   "source": [
    "As we can see from the two plots, the bar graph and the pie chart above, we can see that Wilson has the most players in the Top 100 using their racquets, which being 30 players, which was my prediction. Wilson has been the biggest brand in tennis, and their racquets have a long history especially from the Pete Sampras Era of the 6.1 85 Racquets. The surprise that comes however, is that I believed Babolat would come in second of the number of players in the Top 100 using their racquets as it has been one of the most popular brands and had the highest sales however, it is Head with 24 players, then Yonex in third with 19 players (which is a huge surprise), then Babolat at 4th with 16 players. It is awesome to see that Yonex recently has been making a rise in the tennis racquet market, and being able to sign big names in the Top 100 in the past few years. Other brands such as Technifibre and Dunlop is still considered more of a smaller brand however, with big names such as Daniil Medvedev and Miomir Kecmanovic respectively, they should be able to able to sign with more players and bigger names in the future. On the other hand, Prince and Artengo are more of a niche brand in terms of racquets in the professional world, with John Isner and Gael Monfils only for each brand as their ambassador in the Top 100. However, I am hopeful that more players would start using their brands and increase their signings in the next couple of years, as the players noted aformentionedly are big names and are very influential to the sport of tennis."
   ]
  },
  {
   "cell_type": "markdown",
   "id": "7f2e11db",
   "metadata": {},
   "source": [
    "## Part  7: Racquet Head Sizes"
   ]
  },
  {
   "cell_type": "markdown",
   "id": "2cade261",
   "metadata": {},
   "source": [
    "In this last part, we will be analyzing the racquet head size of the racquets the professionals use. Racquet head size is very important for the players, The numbers usualy range from where between 90-100 square inches in modern standards. The smaller the head size, the more control, the less power, the less forgiving, and the ease to swing the racquet. The bigger the head size, the less control, more power, the more forgiving and less ease to swing the racquet. \n",
    "\n",
    "Note that the data obtained in this part is by the \"Pro Stock\" racquets use, and not the retail racquets they endorse. For example, Novak Djokovic endorses the Head Auxetic Speed Pro, which the retail one is a 100 square inches, but he actually uses a racquet that is 95 square inches.\n",
    "\n",
    "Let's first take a look at the smallest head size used by the Top 100 ATP Professional Players."
   ]
  },
  {
   "cell_type": "code",
   "execution_count": 41,
   "id": "50644d33",
   "metadata": {},
   "outputs": [
    {
     "data": {
      "text/html": [
       "<div>\n",
       "<style scoped>\n",
       "    .dataframe tbody tr th:only-of-type {\n",
       "        vertical-align: middle;\n",
       "    }\n",
       "\n",
       "    .dataframe tbody tr th {\n",
       "        vertical-align: top;\n",
       "    }\n",
       "\n",
       "    .dataframe thead th {\n",
       "        text-align: right;\n",
       "    }\n",
       "</style>\n",
       "<table border=\"1\" class=\"dataframe\">\n",
       "  <thead>\n",
       "    <tr style=\"text-align: right;\">\n",
       "      <th></th>\n",
       "      <th>rank</th>\n",
       "      <th>player</th>\n",
       "      <th>country</th>\n",
       "      <th>total_points</th>\n",
       "      <th>grand_slam_points</th>\n",
       "      <th>masters_points</th>\n",
       "      <th>other_points</th>\n",
       "      <th>tournaments</th>\n",
       "      <th>racquet_brand</th>\n",
       "      <th>head_size</th>\n",
       "      <th>height</th>\n",
       "      <th>age</th>\n",
       "      <th>continent</th>\n",
       "      <th>hp_ratio</th>\n",
       "    </tr>\n",
       "  </thead>\n",
       "  <tbody>\n",
       "    <tr>\n",
       "      <th>16</th>\n",
       "      <td>17</td>\n",
       "      <td>Cilic, Marin</td>\n",
       "      <td>CRO</td>\n",
       "      <td>2105</td>\n",
       "      <td>1080</td>\n",
       "      <td>425</td>\n",
       "      <td>600</td>\n",
       "      <td>20</td>\n",
       "      <td>Head</td>\n",
       "      <td>93</td>\n",
       "      <td>198</td>\n",
       "      <td>34</td>\n",
       "      <td>EUR</td>\n",
       "      <td>0.714964</td>\n",
       "    </tr>\n",
       "  </tbody>\n",
       "</table>\n",
       "</div>"
      ],
      "text/plain": [
       "    rank        player country  total_points  grand_slam_points  \\\n",
       "16    17  Cilic, Marin     CRO          2105               1080   \n",
       "\n",
       "    masters_points  other_points  tournaments racquet_brand  head_size  \\\n",
       "16             425           600           20          Head         93   \n",
       "\n",
       "    height  age continent  hp_ratio  \n",
       "16     198   34       EUR  0.714964  "
      ]
     },
     "execution_count": 41,
     "metadata": {},
     "output_type": "execute_result"
    }
   ],
   "source": [
    "df_headsize = df[\"head_size\"]\n",
    "\n",
    "df[df[\"head_size\"] == min(df_headsize)]"
   ]
  },
  {
   "cell_type": "markdown",
   "id": "04a624e5",
   "metadata": {},
   "source": [
    "It is interesting to see that the smallest head size used by the Top 100 player is 93 sqaure inches, and by Marin Cilic, who in the Top 20. Although he has a very big game with huge serves and forehands, I believe that he wants a racquet with more control and less power as he can generate his own pace and power. Although the head size of 93 sqaure inches came in a little surprise, such a racquet used by a player like Marin is not too surprising when thinking about his game and his playstyle.\n",
    "\n",
    "Let's now take a look at the biggest head size used by the Top 100 ATP Professional Players."
   ]
  },
  {
   "cell_type": "code",
   "execution_count": 42,
   "id": "e49fabf4",
   "metadata": {},
   "outputs": [
    {
     "data": {
      "text/html": [
       "<div>\n",
       "<style scoped>\n",
       "    .dataframe tbody tr th:only-of-type {\n",
       "        vertical-align: middle;\n",
       "    }\n",
       "\n",
       "    .dataframe tbody tr th {\n",
       "        vertical-align: top;\n",
       "    }\n",
       "\n",
       "    .dataframe thead th {\n",
       "        text-align: right;\n",
       "    }\n",
       "</style>\n",
       "<table border=\"1\" class=\"dataframe\">\n",
       "  <thead>\n",
       "    <tr style=\"text-align: right;\">\n",
       "      <th></th>\n",
       "      <th>rank</th>\n",
       "      <th>player</th>\n",
       "      <th>country</th>\n",
       "      <th>total_points</th>\n",
       "      <th>grand_slam_points</th>\n",
       "      <th>masters_points</th>\n",
       "      <th>other_points</th>\n",
       "      <th>tournaments</th>\n",
       "      <th>racquet_brand</th>\n",
       "      <th>head_size</th>\n",
       "      <th>height</th>\n",
       "      <th>age</th>\n",
       "      <th>continent</th>\n",
       "      <th>hp_ratio</th>\n",
       "    </tr>\n",
       "  </thead>\n",
       "  <tbody>\n",
       "    <tr>\n",
       "      <th>1</th>\n",
       "      <td>2</td>\n",
       "      <td>Nadal, Rafael</td>\n",
       "      <td>ESP</td>\n",
       "      <td>6020</td>\n",
       "      <td>4180</td>\n",
       "      <td>890</td>\n",
       "      <td>950</td>\n",
       "      <td>14</td>\n",
       "      <td>Babolat</td>\n",
       "      <td>100</td>\n",
       "      <td>185</td>\n",
       "      <td>36</td>\n",
       "      <td>EUR</td>\n",
       "      <td>0.842193</td>\n",
       "    </tr>\n",
       "    <tr>\n",
       "      <th>2</th>\n",
       "      <td>3</td>\n",
       "      <td>Ruud, Casper</td>\n",
       "      <td>NOR</td>\n",
       "      <td>5820</td>\n",
       "      <td>2400</td>\n",
       "      <td>1565</td>\n",
       "      <td>1855</td>\n",
       "      <td>23</td>\n",
       "      <td>Yonex</td>\n",
       "      <td>100</td>\n",
       "      <td>183</td>\n",
       "      <td>24</td>\n",
       "      <td>EUR</td>\n",
       "      <td>0.681271</td>\n",
       "    </tr>\n",
       "    <tr>\n",
       "      <th>7</th>\n",
       "      <td>8</td>\n",
       "      <td>Rublev, Andrey</td>\n",
       "      <td>RUS</td>\n",
       "      <td>3930</td>\n",
       "      <td>810</td>\n",
       "      <td>840</td>\n",
       "      <td>2280</td>\n",
       "      <td>23</td>\n",
       "      <td>Head</td>\n",
       "      <td>100</td>\n",
       "      <td>188</td>\n",
       "      <td>25</td>\n",
       "      <td>EUR</td>\n",
       "      <td>0.419847</td>\n",
       "    </tr>\n",
       "    <tr>\n",
       "      <th>11</th>\n",
       "      <td>12</td>\n",
       "      <td>Zverev, Alexander</td>\n",
       "      <td>GER</td>\n",
       "      <td>2700</td>\n",
       "      <td>900</td>\n",
       "      <td>1510</td>\n",
       "      <td>290</td>\n",
       "      <td>18</td>\n",
       "      <td>Head</td>\n",
       "      <td>100</td>\n",
       "      <td>198</td>\n",
       "      <td>25</td>\n",
       "      <td>EUR</td>\n",
       "      <td>0.892593</td>\n",
       "    </tr>\n",
       "    <tr>\n",
       "      <th>14</th>\n",
       "      <td>15</td>\n",
       "      <td>Sinner, Jannik</td>\n",
       "      <td>ITA</td>\n",
       "      <td>2410</td>\n",
       "      <td>900</td>\n",
       "      <td>910</td>\n",
       "      <td>600</td>\n",
       "      <td>18</td>\n",
       "      <td>Head</td>\n",
       "      <td>100</td>\n",
       "      <td>188</td>\n",
       "      <td>21</td>\n",
       "      <td>EUR</td>\n",
       "      <td>0.751037</td>\n",
       "    </tr>\n",
       "    <tr>\n",
       "      <th>15</th>\n",
       "      <td>16</td>\n",
       "      <td>Berrettini, Matteo</td>\n",
       "      <td>ITA</td>\n",
       "      <td>2375</td>\n",
       "      <td>1080</td>\n",
       "      <td>110</td>\n",
       "      <td>1185</td>\n",
       "      <td>19</td>\n",
       "      <td>Head</td>\n",
       "      <td>100</td>\n",
       "      <td>196</td>\n",
       "      <td>26</td>\n",
       "      <td>EUR</td>\n",
       "      <td>0.501053</td>\n",
       "    </tr>\n",
       "    <tr>\n",
       "      <th>25</th>\n",
       "      <td>26</td>\n",
       "      <td>Coric, Borna</td>\n",
       "      <td>CRO</td>\n",
       "      <td>1685</td>\n",
       "      <td>90</td>\n",
       "      <td>1085</td>\n",
       "      <td>510</td>\n",
       "      <td>19</td>\n",
       "      <td>Wilson</td>\n",
       "      <td>100</td>\n",
       "      <td>188</td>\n",
       "      <td>26</td>\n",
       "      <td>EUR</td>\n",
       "      <td>0.697329</td>\n",
       "    </tr>\n",
       "    <tr>\n",
       "      <th>28</th>\n",
       "      <td>29</td>\n",
       "      <td>Kecmanovic, Miomir</td>\n",
       "      <td>SRB</td>\n",
       "      <td>1420</td>\n",
       "      <td>315</td>\n",
       "      <td>480</td>\n",
       "      <td>625</td>\n",
       "      <td>23</td>\n",
       "      <td>Dunlop</td>\n",
       "      <td>100</td>\n",
       "      <td>183</td>\n",
       "      <td>23</td>\n",
       "      <td>EUR</td>\n",
       "      <td>0.559859</td>\n",
       "    </tr>\n",
       "    <tr>\n",
       "      <th>30</th>\n",
       "      <td>31</td>\n",
       "      <td>Davidovich Fokina, Alejandro</td>\n",
       "      <td>ESP</td>\n",
       "      <td>1280</td>\n",
       "      <td>235</td>\n",
       "      <td>755</td>\n",
       "      <td>290</td>\n",
       "      <td>25</td>\n",
       "      <td>Head</td>\n",
       "      <td>100</td>\n",
       "      <td>183</td>\n",
       "      <td>23</td>\n",
       "      <td>EUR</td>\n",
       "      <td>0.773438</td>\n",
       "    </tr>\n",
       "    <tr>\n",
       "      <th>33</th>\n",
       "      <td>34</td>\n",
       "      <td>Cressy, Maxime</td>\n",
       "      <td>USA</td>\n",
       "      <td>1163</td>\n",
       "      <td>200</td>\n",
       "      <td>181</td>\n",
       "      <td>782</td>\n",
       "      <td>30</td>\n",
       "      <td>Babolat</td>\n",
       "      <td>100</td>\n",
       "      <td>201</td>\n",
       "      <td>25</td>\n",
       "      <td>NA</td>\n",
       "      <td>0.327601</td>\n",
       "    </tr>\n",
       "    <tr>\n",
       "      <th>34</th>\n",
       "      <td>35</td>\n",
       "      <td>van de Zandschulp, Botic</td>\n",
       "      <td>NED</td>\n",
       "      <td>1160</td>\n",
       "      <td>225</td>\n",
       "      <td>245</td>\n",
       "      <td>690</td>\n",
       "      <td>27</td>\n",
       "      <td>Babolat</td>\n",
       "      <td>100</td>\n",
       "      <td>191</td>\n",
       "      <td>27</td>\n",
       "      <td>EUR</td>\n",
       "      <td>0.405172</td>\n",
       "    </tr>\n",
       "    <tr>\n",
       "      <th>38</th>\n",
       "      <td>39</td>\n",
       "      <td>Ramos-Vinolas, Albert</td>\n",
       "      <td>ESP</td>\n",
       "      <td>1075</td>\n",
       "      <td>100</td>\n",
       "      <td>230</td>\n",
       "      <td>745</td>\n",
       "      <td>28</td>\n",
       "      <td>Babolat</td>\n",
       "      <td>100</td>\n",
       "      <td>188</td>\n",
       "      <td>35</td>\n",
       "      <td>EUR</td>\n",
       "      <td>0.306977</td>\n",
       "    </tr>\n",
       "    <tr>\n",
       "      <th>39</th>\n",
       "      <td>40</td>\n",
       "      <td>Ruusuvuori, Emil</td>\n",
       "      <td>FIN</td>\n",
       "      <td>1011</td>\n",
       "      <td>65</td>\n",
       "      <td>236</td>\n",
       "      <td>710</td>\n",
       "      <td>28</td>\n",
       "      <td>Head</td>\n",
       "      <td>100</td>\n",
       "      <td>188</td>\n",
       "      <td>23</td>\n",
       "      <td>EUR</td>\n",
       "      <td>0.297725</td>\n",
       "    </tr>\n",
       "    <tr>\n",
       "      <th>40</th>\n",
       "      <td>41</td>\n",
       "      <td>Isner, John</td>\n",
       "      <td>USA</td>\n",
       "      <td>1005</td>\n",
       "      <td>145</td>\n",
       "      <td>415</td>\n",
       "      <td>445</td>\n",
       "      <td>19</td>\n",
       "      <td>Prince</td>\n",
       "      <td>100</td>\n",
       "      <td>208</td>\n",
       "      <td>37</td>\n",
       "      <td>NA</td>\n",
       "      <td>0.557214</td>\n",
       "    </tr>\n",
       "    <tr>\n",
       "      <th>41</th>\n",
       "      <td>42</td>\n",
       "      <td>Draper, Jack</td>\n",
       "      <td>GBR</td>\n",
       "      <td>990</td>\n",
       "      <td>90</td>\n",
       "      <td>320</td>\n",
       "      <td>580</td>\n",
       "      <td>20</td>\n",
       "      <td>Dunlop</td>\n",
       "      <td>100</td>\n",
       "      <td>193</td>\n",
       "      <td>21</td>\n",
       "      <td>EUR</td>\n",
       "      <td>0.414141</td>\n",
       "    </tr>\n",
       "    <tr>\n",
       "      <th>45</th>\n",
       "      <td>46</td>\n",
       "      <td>Mannarino, Adrian</td>\n",
       "      <td>FRA</td>\n",
       "      <td>946</td>\n",
       "      <td>200</td>\n",
       "      <td>90</td>\n",
       "      <td>656</td>\n",
       "      <td>27</td>\n",
       "      <td>Babolat</td>\n",
       "      <td>100</td>\n",
       "      <td>180</td>\n",
       "      <td>34</td>\n",
       "      <td>EUR</td>\n",
       "      <td>0.306554</td>\n",
       "    </tr>\n",
       "    <tr>\n",
       "      <th>50</th>\n",
       "      <td>51</td>\n",
       "      <td>Moutet, Corentin</td>\n",
       "      <td>FRA</td>\n",
       "      <td>892</td>\n",
       "      <td>286</td>\n",
       "      <td>115</td>\n",
       "      <td>491</td>\n",
       "      <td>21</td>\n",
       "      <td>Wilson</td>\n",
       "      <td>100</td>\n",
       "      <td>175</td>\n",
       "      <td>23</td>\n",
       "      <td>EUR</td>\n",
       "      <td>0.449552</td>\n",
       "    </tr>\n",
       "    <tr>\n",
       "      <th>54</th>\n",
       "      <td>55</td>\n",
       "      <td>Fognini, Fabio</td>\n",
       "      <td>ITA</td>\n",
       "      <td>843</td>\n",
       "      <td>100</td>\n",
       "      <td>327</td>\n",
       "      <td>416</td>\n",
       "      <td>23</td>\n",
       "      <td>Babolat</td>\n",
       "      <td>100</td>\n",
       "      <td>178</td>\n",
       "      <td>35</td>\n",
       "      <td>EUR</td>\n",
       "      <td>0.506524</td>\n",
       "    </tr>\n",
       "    <tr>\n",
       "      <th>55</th>\n",
       "      <td>56</td>\n",
       "      <td>Huesler, Marc-Andrea</td>\n",
       "      <td>SUI</td>\n",
       "      <td>818</td>\n",
       "      <td>10</td>\n",
       "      <td>70</td>\n",
       "      <td>738</td>\n",
       "      <td>26</td>\n",
       "      <td>Wilson</td>\n",
       "      <td>100</td>\n",
       "      <td>196</td>\n",
       "      <td>26</td>\n",
       "      <td>EUR</td>\n",
       "      <td>0.097800</td>\n",
       "    </tr>\n",
       "    <tr>\n",
       "      <th>65</th>\n",
       "      <td>66</td>\n",
       "      <td>Wolf, J.J.</td>\n",
       "      <td>USA</td>\n",
       "      <td>746</td>\n",
       "      <td>90</td>\n",
       "      <td>82</td>\n",
       "      <td>574</td>\n",
       "      <td>26</td>\n",
       "      <td>Head</td>\n",
       "      <td>100</td>\n",
       "      <td>183</td>\n",
       "      <td>24</td>\n",
       "      <td>NA</td>\n",
       "      <td>0.230563</td>\n",
       "    </tr>\n",
       "    <tr>\n",
       "      <th>67</th>\n",
       "      <td>68</td>\n",
       "      <td>Gasquet, Richard</td>\n",
       "      <td>FRA</td>\n",
       "      <td>740</td>\n",
       "      <td>180</td>\n",
       "      <td>65</td>\n",
       "      <td>495</td>\n",
       "      <td>24</td>\n",
       "      <td>Head</td>\n",
       "      <td>100</td>\n",
       "      <td>183</td>\n",
       "      <td>36</td>\n",
       "      <td>EUR</td>\n",
       "      <td>0.331081</td>\n",
       "    </tr>\n",
       "    <tr>\n",
       "      <th>75</th>\n",
       "      <td>76</td>\n",
       "      <td>Otte, Oscar</td>\n",
       "      <td>GER</td>\n",
       "      <td>691</td>\n",
       "      <td>65</td>\n",
       "      <td>111</td>\n",
       "      <td>515</td>\n",
       "      <td>25</td>\n",
       "      <td>Babolat</td>\n",
       "      <td>100</td>\n",
       "      <td>193</td>\n",
       "      <td>29</td>\n",
       "      <td>EUR</td>\n",
       "      <td>0.254703</td>\n",
       "    </tr>\n",
       "    <tr>\n",
       "      <th>78</th>\n",
       "      <td>79</td>\n",
       "      <td>Etcheverry, Tomas Martin</td>\n",
       "      <td>ARG</td>\n",
       "      <td>649</td>\n",
       "      <td>55</td>\n",
       "      <td>0</td>\n",
       "      <td>594</td>\n",
       "      <td>30</td>\n",
       "      <td>Head</td>\n",
       "      <td>100</td>\n",
       "      <td>196</td>\n",
       "      <td>23</td>\n",
       "      <td>SA</td>\n",
       "      <td>0.084746</td>\n",
       "    </tr>\n",
       "    <tr>\n",
       "      <th>81</th>\n",
       "      <td>82</td>\n",
       "      <td>Sousa, Joao</td>\n",
       "      <td>POR</td>\n",
       "      <td>638</td>\n",
       "      <td>116</td>\n",
       "      <td>18</td>\n",
       "      <td>504</td>\n",
       "      <td>24</td>\n",
       "      <td>Wilson</td>\n",
       "      <td>100</td>\n",
       "      <td>185</td>\n",
       "      <td>33</td>\n",
       "      <td>EUR</td>\n",
       "      <td>0.210031</td>\n",
       "    </tr>\n",
       "    <tr>\n",
       "      <th>83</th>\n",
       "      <td>84</td>\n",
       "      <td>Thompson, Jordan</td>\n",
       "      <td>AUS</td>\n",
       "      <td>626</td>\n",
       "      <td>65</td>\n",
       "      <td>50</td>\n",
       "      <td>511</td>\n",
       "      <td>28</td>\n",
       "      <td>Babolat</td>\n",
       "      <td>100</td>\n",
       "      <td>183</td>\n",
       "      <td>28</td>\n",
       "      <td>AUS</td>\n",
       "      <td>0.183706</td>\n",
       "    </tr>\n",
       "    <tr>\n",
       "      <th>86</th>\n",
       "      <td>87</td>\n",
       "      <td>Tseng, Chun-Hsin</td>\n",
       "      <td>TPE</td>\n",
       "      <td>611</td>\n",
       "      <td>45</td>\n",
       "      <td>0</td>\n",
       "      <td>566</td>\n",
       "      <td>25</td>\n",
       "      <td>Babolat</td>\n",
       "      <td>100</td>\n",
       "      <td>175</td>\n",
       "      <td>21</td>\n",
       "      <td>ASIA</td>\n",
       "      <td>0.073650</td>\n",
       "    </tr>\n",
       "    <tr>\n",
       "      <th>88</th>\n",
       "      <td>89</td>\n",
       "      <td>Safiullin, Roman</td>\n",
       "      <td>RUS</td>\n",
       "      <td>606</td>\n",
       "      <td>26</td>\n",
       "      <td>0</td>\n",
       "      <td>580</td>\n",
       "      <td>17</td>\n",
       "      <td>Head</td>\n",
       "      <td>100</td>\n",
       "      <td>185</td>\n",
       "      <td>25</td>\n",
       "      <td>EUR</td>\n",
       "      <td>0.042904</td>\n",
       "    </tr>\n",
       "    <tr>\n",
       "      <th>92</th>\n",
       "      <td>93</td>\n",
       "      <td>Daniel, Taro</td>\n",
       "      <td>JPN</td>\n",
       "      <td>594</td>\n",
       "      <td>135</td>\n",
       "      <td>67</td>\n",
       "      <td>392</td>\n",
       "      <td>24</td>\n",
       "      <td>Babolat</td>\n",
       "      <td>100</td>\n",
       "      <td>191</td>\n",
       "      <td>30</td>\n",
       "      <td>ASIA</td>\n",
       "      <td>0.340067</td>\n",
       "    </tr>\n",
       "    <tr>\n",
       "      <th>97</th>\n",
       "      <td>98</td>\n",
       "      <td>Machac, Tomas</td>\n",
       "      <td>CZE</td>\n",
       "      <td>580</td>\n",
       "      <td>105</td>\n",
       "      <td>41</td>\n",
       "      <td>434</td>\n",
       "      <td>20</td>\n",
       "      <td>Yonex</td>\n",
       "      <td>100</td>\n",
       "      <td>183</td>\n",
       "      <td>22</td>\n",
       "      <td>EUR</td>\n",
       "      <td>0.251724</td>\n",
       "    </tr>\n",
       "  </tbody>\n",
       "</table>\n",
       "</div>"
      ],
      "text/plain": [
       "    rank                        player country  total_points  \\\n",
       "1      2                 Nadal, Rafael     ESP          6020   \n",
       "2      3                  Ruud, Casper     NOR          5820   \n",
       "7      8                Rublev, Andrey     RUS          3930   \n",
       "11    12             Zverev, Alexander     GER          2700   \n",
       "14    15                Sinner, Jannik     ITA          2410   \n",
       "15    16            Berrettini, Matteo     ITA          2375   \n",
       "25    26                  Coric, Borna     CRO          1685   \n",
       "28    29            Kecmanovic, Miomir     SRB          1420   \n",
       "30    31  Davidovich Fokina, Alejandro     ESP          1280   \n",
       "33    34                Cressy, Maxime     USA          1163   \n",
       "34    35      van de Zandschulp, Botic     NED          1160   \n",
       "38    39         Ramos-Vinolas, Albert     ESP          1075   \n",
       "39    40              Ruusuvuori, Emil     FIN          1011   \n",
       "40    41                   Isner, John     USA          1005   \n",
       "41    42                  Draper, Jack     GBR           990   \n",
       "45    46             Mannarino, Adrian     FRA           946   \n",
       "50    51              Moutet, Corentin     FRA           892   \n",
       "54    55                Fognini, Fabio     ITA           843   \n",
       "55    56          Huesler, Marc-Andrea     SUI           818   \n",
       "65    66                    Wolf, J.J.     USA           746   \n",
       "67    68              Gasquet, Richard     FRA           740   \n",
       "75    76                   Otte, Oscar     GER           691   \n",
       "78    79      Etcheverry, Tomas Martin     ARG           649   \n",
       "81    82                   Sousa, Joao     POR           638   \n",
       "83    84              Thompson, Jordan     AUS           626   \n",
       "86    87              Tseng, Chun-Hsin     TPE           611   \n",
       "88    89              Safiullin, Roman     RUS           606   \n",
       "92    93                  Daniel, Taro     JPN           594   \n",
       "97    98                 Machac, Tomas     CZE           580   \n",
       "\n",
       "    grand_slam_points  masters_points  other_points  tournaments  \\\n",
       "1                4180             890           950           14   \n",
       "2                2400            1565          1855           23   \n",
       "7                 810             840          2280           23   \n",
       "11                900            1510           290           18   \n",
       "14                900             910           600           18   \n",
       "15               1080             110          1185           19   \n",
       "25                 90            1085           510           19   \n",
       "28                315             480           625           23   \n",
       "30                235             755           290           25   \n",
       "33                200             181           782           30   \n",
       "34                225             245           690           27   \n",
       "38                100             230           745           28   \n",
       "39                 65             236           710           28   \n",
       "40                145             415           445           19   \n",
       "41                 90             320           580           20   \n",
       "45                200              90           656           27   \n",
       "50                286             115           491           21   \n",
       "54                100             327           416           23   \n",
       "55                 10              70           738           26   \n",
       "65                 90              82           574           26   \n",
       "67                180              65           495           24   \n",
       "75                 65             111           515           25   \n",
       "78                 55               0           594           30   \n",
       "81                116              18           504           24   \n",
       "83                 65              50           511           28   \n",
       "86                 45               0           566           25   \n",
       "88                 26               0           580           17   \n",
       "92                135              67           392           24   \n",
       "97                105              41           434           20   \n",
       "\n",
       "   racquet_brand  head_size  height  age continent  hp_ratio  \n",
       "1        Babolat        100     185   36       EUR  0.842193  \n",
       "2          Yonex        100     183   24       EUR  0.681271  \n",
       "7           Head        100     188   25       EUR  0.419847  \n",
       "11          Head        100     198   25       EUR  0.892593  \n",
       "14          Head        100     188   21       EUR  0.751037  \n",
       "15          Head        100     196   26       EUR  0.501053  \n",
       "25        Wilson        100     188   26       EUR  0.697329  \n",
       "28        Dunlop        100     183   23       EUR  0.559859  \n",
       "30          Head        100     183   23       EUR  0.773438  \n",
       "33       Babolat        100     201   25        NA  0.327601  \n",
       "34       Babolat        100     191   27       EUR  0.405172  \n",
       "38       Babolat        100     188   35       EUR  0.306977  \n",
       "39          Head        100     188   23       EUR  0.297725  \n",
       "40        Prince        100     208   37        NA  0.557214  \n",
       "41        Dunlop        100     193   21       EUR  0.414141  \n",
       "45       Babolat        100     180   34       EUR  0.306554  \n",
       "50        Wilson        100     175   23       EUR  0.449552  \n",
       "54       Babolat        100     178   35       EUR  0.506524  \n",
       "55        Wilson        100     196   26       EUR  0.097800  \n",
       "65          Head        100     183   24        NA  0.230563  \n",
       "67          Head        100     183   36       EUR  0.331081  \n",
       "75       Babolat        100     193   29       EUR  0.254703  \n",
       "78          Head        100     196   23        SA  0.084746  \n",
       "81        Wilson        100     185   33       EUR  0.210031  \n",
       "83       Babolat        100     183   28       AUS  0.183706  \n",
       "86       Babolat        100     175   21      ASIA  0.073650  \n",
       "88          Head        100     185   25       EUR  0.042904  \n",
       "92       Babolat        100     191   30      ASIA  0.340067  \n",
       "97         Yonex        100     183   22       EUR  0.251724  "
      ]
     },
     "execution_count": 42,
     "metadata": {},
     "output_type": "execute_result"
    }
   ],
   "source": [
    "df[df[\"head_size\"] == max(df_headsize)]"
   ]
  },
  {
   "cell_type": "markdown",
   "id": "138170df",
   "metadata": {},
   "source": [
    "Well, that's a lot of players than expected. Let's see how many players use a 100 square inched racquets in the Top 100."
   ]
  },
  {
   "cell_type": "code",
   "execution_count": 43,
   "id": "efeaffbc",
   "metadata": {},
   "outputs": [
    {
     "data": {
      "text/plain": [
       "29"
      ]
     },
     "execution_count": 43,
     "metadata": {},
     "output_type": "execute_result"
    }
   ],
   "source": [
    "len(df[df[\"head_size\"] == max(df_headsize)])"
   ]
  },
  {
   "cell_type": "markdown",
   "id": "cc346a8d",
   "metadata": {},
   "source": [
    "29 Players, that means nearly 30% of the Top 100 players uses a 100 square inched racquet! A 100 square inched racquet is much more forgiving to use and gives more power for players when hitting the ball, and since the modern game utilizies more topspin and pace for every shot, it comes no surprise that many players are now using 100 square inched racquets.\n",
    "\n",
    "Lastly, let's see the distribution of the racquet head sizes used by the Top 100 ATP Players."
   ]
  },
  {
   "cell_type": "code",
   "execution_count": 44,
   "id": "6cd481b2",
   "metadata": {},
   "outputs": [
    {
     "data": {
      "image/png": "[encoded data removed]",
      "text/plain": [
       "<Figure size 1000x500 with 2 Axes>"
      ]
     },
     "metadata": {},
     "output_type": "display_data"
    }
   ],
   "source": [
    "#Making two plots, a bar graph and a pie chart\n",
    "fig, axes = plt.subplots(1, 2, figsize=(10,5))\n",
    "fig.suptitle(\"Distribution of Racquet Head Sizes used by the Top 100 ATP Players\")\n",
    "\n",
    "racquets = df_headsize.value_counts().reset_index().rename(columns={\"index\":\"Head Size\", \"head_size\": \"Count\"})\n",
    "\n",
    "sns.barplot(ax=axes[0], data=racquets, x=\"Head Size\", y=\"Count\")\n",
    "axes[0].set_title(\"Bar Graph of the Distribution\")\n",
    "\n",
    "headsize_count = df_headsize.value_counts()\n",
    "headsize = headsize_count.index\n",
    "count = headsize_count.values\n",
    "plt.pie(count, labels=headsize, autopct='%1.1f%%')\n",
    "axes[1].set_title(\"Pie Chart of the Distribution\");"
   ]
  },
  {
   "cell_type": "markdown",
   "id": "d442eee1",
   "metadata": {},
   "source": [
    "From the two graphs above, we can see that the most common head size used by the Top 100 ATP Professionals is 98 square inches with 49 players (nearly half!), and 100 square inches with 29 players as mentioned before. There are some professionals who use 95 and 97 square inches, and 93 and 99 sqaure inches being the most uncommon with one player each. The 98 square inched racquets been the most common is something that I was expecting, as 98 square inches is the \"modern standard\" head size in today's game, as it has a good blend of control as well as power. With 98 and 100 square inched racquet users being nearly 80% of the Top 100, we can see how the racquet head size has evolved during the last 3 decades, as the most common racquets used back in the day for professionals was 85 square inches, which came from the Wilson 6.1 85. The bigger head size is more forgiving and much easier to generate power, which is what the modern gam of tennis needs, as the mentioned before, players hit much harder with power meaning more pace, and more topspin. The smaller head size such as 95 square inches and even the 97 square inches may become much more rare as the game of tennis evolves. Lastly, although 99 sqaure inches seems to be in the \"modern standards\" however, not many racquet manufacturers create racquets with such a head size, as it is too close to the 98 and the 100 square inched racquets."
   ]
  },
  {
   "cell_type": "markdown",
   "id": "d5ea93cf",
   "metadata": {},
   "source": [
    "## Part 8: Conclusion"
   ]
  },
  {
   "cell_type": "markdown",
   "id": "7768ec28",
   "metadata": {},
   "source": [
    "From the Exploratory Data Analysis conducted above about the Top 100 ATP Players, I have learned many attributes about those players. Although there are other attributes such as weight, dominant hand, racquet string pattern and such, I believe I have covered the most important and the most interesting ones. Here are the findings I found about each attributes that I have conducted an analysiss about:\n",
    "\n",
    "Part 1 - Country: USA is the country that has the most players in the Top 100, while Europe is the continent that has the most Top 100 Players.\n",
    "\n",
    "Part 2 - Points: Players who have a higher \"high-point ratio\", meaning that they have made deeper runs in Grand Slam and Masters 100 Tournaments tends to be more successful, which leads to higher ranking within the Top 100.\n",
    "\n",
    "Part 3 - Tournaments: There is not much difference between how many tournaments players depending on their rankings however, players with lower rankings play slightly more tournaments in order to obtain points and boost their rankings.\n",
    "\n",
    "Part 4 - Age: The most common age in the Top 100 ATP Players are between 24 and 28. The youngest player is 19 years old, and the oldest being 37.\n",
    "\n",
    "Part 5 - Height: The most common height in the ATP Tour is 183 centimeters (6 feet ~ 6 foot 1 inches). The most optimal height to be successful in tennis (based on the data, at least), is between 183 and 188 centimeters. Being taller is also advantageous, but being too tall is not necessarily a good thing as well. The shortest player stands at 170 centimeters (5 foot 7 inches), while the tallest player stands at 211 centimeters (6 foot 11 inches).\n",
    "\n",
    "Part 6 - Racquet Brands: The most common racquet brand used by the Top 100 Players are Wilson, then Head, then Yonex, then Babolat, and other brands such as Tecnifibre and Dunlop. Was generally surprised about the smaller number of players in the Top 100 that used Babolat Racquets. \n",
    "\n",
    "Part 7 - Racquet Head Sizes: The most common head size used by the Top 100 Players is 98 square inches, followed by 100 square inches. The smallest racquet head size used in the Top 100 is 93 square inches, and the largest being 100 square inches."
   ]
  }
 ],
 "metadata": {
  "kernelspec": {
   "display_name": "Python 3 (ipykernel)",
   "language": "python",
   "name": "python3"
  },
  "language_info": {
   "codemirror_mode": {
    "name": "ipython",
    "version": 3
   },
   "file_extension": ".py",
   "mimetype": "text/x-python",
   "name": "python",
   "nbconvert_exporter": "python",
   "pygments_lexer": "ipython3",
   "version": "3.10.9"
  }
 },
 "nbformat": 4,
 "nbformat_minor": 5
}
